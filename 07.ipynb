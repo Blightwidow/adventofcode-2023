{
 "cells": [
  {
   "cell_type": "code",
   "execution_count": 591,
   "metadata": {},
   "outputs": [],
   "source": [
    "import re\n",
    "\n",
    "\n",
    "class Game:\n",
    "    hand: str\n",
    "    bid: int\n",
    "    joker: bool\n",
    "\n",
    "    def __init__(self, hand: str, bid_string: str, joker: bool = False):\n",
    "        self.hand = hand\n",
    "        self.bid = int(bid_string)\n",
    "        self.joker = joker\n",
    "        self.computed_value = self.value()\n",
    "\n",
    "    def __repr__(self):\n",
    "        return f\"{self.hand} {self.bid}\"\n",
    "\n",
    "    def __str__(self):\n",
    "        return f\"{self.hand} {self.bid}\"\n",
    "\n",
    "    def _card_value(self, card: str):\n",
    "        if card == \"A\":\n",
    "            return 15\n",
    "        if card == \"K\":\n",
    "            return 14\n",
    "        if card == \"Q\":\n",
    "            return 13\n",
    "        if card == \"J\":\n",
    "            return 1 if self.joker else 12\n",
    "        if card == \"T\":\n",
    "            return 11\n",
    "        return int(card)\n",
    "\n",
    "    def __lt__(self, other):\n",
    "        if self.computed_value == other.computed_value:\n",
    "            for i in range(len(self.hand)):\n",
    "                if self._card_value(self.hand[i]) == self._card_value(other.hand[i]):\n",
    "                    continue\n",
    "                return self._card_value(self.hand[i]) < self._card_value(other.hand[i])\n",
    "\n",
    "        return self.computed_value < other.computed_value\n",
    "\n",
    "    def __gt__(self, other):\n",
    "        if self.computed_value == other.computed_value:\n",
    "            for i in range(len(self.hand)):\n",
    "                if self._card_value(self.hand[i]) == self._card_value(other.hand[i]):\n",
    "                    continue\n",
    "                return self._card_value(self.hand[i]) > self._card_value(other.hand[i])\n",
    "\n",
    "        return self.computed_value > other.computed_value\n",
    "\n",
    "    def value(self):\n",
    "        maximum = 1\n",
    "\n",
    "        def _count(string: str, card: str):\n",
    "            return (\n",
    "                len(re.findall(rf\"{card}|J\", string))\n",
    "                if self.joker\n",
    "                else string.count(card)\n",
    "            )\n",
    "\n",
    "        for i in range(len(self.hand)):\n",
    "            count = _count(self.hand, self.hand[i])\n",
    "            remaining = (\n",
    "                re.sub(rf\"{self.hand[i]}|J\", \"\", self.hand)\n",
    "                if self.joker\n",
    "                else re.sub(rf\"{self.hand[i]}\", \"\", self.hand)\n",
    "            )\n",
    "\n",
    "            if count == 5:\n",
    "                maximum = max(maximum, 7)\n",
    "            if count == 4:\n",
    "                maximum = max(maximum, 6)\n",
    "            if count == 3:\n",
    "                if remaining and _count(remaining, remaining[0]) == 2:\n",
    "                    maximum = max(maximum, 5)\n",
    "                else:\n",
    "                    maximum = max(maximum, 4)\n",
    "            if count == 2:\n",
    "                for j in range(len(remaining)):\n",
    "                    if _count(remaining, remaining[j]) == 2:\n",
    "                        maximum = max(maximum, 3)\n",
    "                        break\n",
    "\n",
    "                maximum = max(maximum, 2)\n",
    "\n",
    "        return maximum"
   ]
  },
  {
   "cell_type": "code",
   "execution_count": 592,
   "metadata": {},
   "outputs": [],
   "source": [
    "import re\n",
    "\n",
    "\n",
    "def parse(text, joker=False):\n",
    "    lines = text.split(\"\\n\")\n",
    "    values = [re.findall(r\"(\\w+) (\\d+)\", line) for line in lines]\n",
    "\n",
    "    return [Game(value[0][0], value[0][1], joker) for value in values]"
   ]
  },
  {
   "cell_type": "code",
   "execution_count": 593,
   "metadata": {},
   "outputs": [],
   "source": [
    "input_string = open(\"07.txt\").read()"
   ]
  },
  {
   "cell_type": "code",
   "execution_count": 594,
   "metadata": {},
   "outputs": [],
   "source": [
    "test_input = \"\"\"32T3K 765\n",
    "T55J5 684\n",
    "KK677 28\n",
    "KTJJT 220\n",
    "QQQJA 483\"\"\"\n",
    "\n",
    "test_games = parse(test_input, False)\n",
    "\n",
    "sorted_games = sorted(test_games)\n",
    "\n",
    "total = 0\n",
    "\n",
    "for i, game in enumerate(sorted_games):\n",
    "    total += game.bid * (i + 1)\n",
    "\n",
    "assert total == 6440"
   ]
  },
  {
   "cell_type": "code",
   "execution_count": 595,
   "metadata": {},
   "outputs": [
    {
     "name": "stdout",
     "output_type": "stream",
     "text": [
      "248113761\n"
     ]
    }
   ],
   "source": [
    "games = parse(input_string, False)\n",
    "sorted_games = sorted(games)\n",
    "total = 0\n",
    "\n",
    "for i, game in enumerate(sorted_games):\n",
    "    total += game.bid * (i + 1)\n",
    "\n",
    "print(total)"
   ]
  },
  {
   "cell_type": "code",
   "execution_count": 596,
   "metadata": {},
   "outputs": [],
   "source": [
    "test_input = \"\"\"32T3K 765\n",
    "T55J5 684\n",
    "KK677 28\n",
    "KTJJT 220\n",
    "QQQJA 483\"\"\"\n",
    "\n",
    "test_games = parse(test_input, True)\n",
    "\n",
    "sorted_games = sorted(test_games)\n",
    "total = 0\n",
    "\n",
    "for i, game in enumerate(sorted_games):\n",
    "    total += game.bid * (i + 1)\n",
    "\n",
    "assert total == 5905"
   ]
  },
  {
   "cell_type": "code",
   "execution_count": 597,
   "metadata": {},
   "outputs": [],
   "source": [
    "text = open(\"07.test.txt\").read()\n",
    "lines = text.split(\"\\n\")\n",
    "games = parse(text, True)\n",
    "sorted_games = sorted(games)\n",
    "total = 0\n",
    "\n",
    "for i, game in enumerate(sorted_games):\n",
    "    if game.hand != lines[i].split(\" \")[0]:\n",
    "        print(i, game.hand, lines[i].split(\" \")[0])\n",
    "        raise Exception(\"Not equal\")"
   ]
  },
  {
   "cell_type": "code",
   "execution_count": 598,
   "metadata": {},
   "outputs": [
    {
     "name": "stdout",
     "output_type": "stream",
     "text": [
      "246285222\n"
     ]
    }
   ],
   "source": [
    "games = parse(input_string, True)\n",
    "sorted_games = sorted(games)\n",
    "total = 0\n",
    "\n",
    "for i, game in enumerate(sorted_games):\n",
    "    total += game.bid * (i + 1)\n",
    "\n",
    "print(total)"
   ]
  }
 ],
 "metadata": {
  "kernelspec": {
   "display_name": "Python 3",
   "language": "python",
   "name": "python3"
  },
  "language_info": {
   "codemirror_mode": {
    "name": "ipython",
    "version": 3
   },
   "file_extension": ".py",
   "mimetype": "text/x-python",
   "name": "python",
   "nbconvert_exporter": "python",
   "pygments_lexer": "ipython3",
   "version": "3.11.4"
  }
 },
 "nbformat": 4,
 "nbformat_minor": 2
}
