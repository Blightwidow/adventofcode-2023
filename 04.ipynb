{
 "cells": [
  {
   "cell_type": "code",
   "execution_count": 7,
   "metadata": {},
   "outputs": [],
   "source": [
    "import re\n",
    "\n",
    "\n",
    "class Card:\n",
    "    id: int\n",
    "    target_numbers: list[int]\n",
    "    numbers: list[int]\n",
    "    winning_numbers: list[int]\n",
    "\n",
    "    def __init__(self, line: str):\n",
    "        matches = re.search(r\"(\\d+):(.+)\\|(.+)\", line)\n",
    "        self.id = int(matches.group(1))\n",
    "        self.target_numbers = [\n",
    "            int(number) for number in re.findall(r\"\\d+\", matches.group(2))\n",
    "        ]\n",
    "        self.numbers = [int(number) for number in re.findall(r\"\\d+\", matches.group(3))]\n",
    "        self.winning_numbers = [\n",
    "            number for number in self.numbers if number in self.target_numbers\n",
    "        ]\n",
    "\n",
    "    def value(self):\n",
    "        if len(self.winning_numbers) == 0:\n",
    "            return 0\n",
    "\n",
    "        return 2 ** (len(self.winning_numbers) - 1)"
   ]
  },
  {
   "cell_type": "code",
   "execution_count": 8,
   "metadata": {},
   "outputs": [],
   "source": [
    "input = open(\"04.txt\").read()\n",
    "cards = [Card(card) for card in input.splitlines()]"
   ]
  },
  {
   "cell_type": "code",
   "execution_count": 9,
   "metadata": {},
   "outputs": [],
   "source": [
    "test_cards = [\n",
    "    Card(\"Card 1: 41 48 83 86 17 | 83 86  6 31 17  9 48 53\"),\n",
    "    Card(\"Card 2: 13 32 20 16 61 | 61 30 68 82 17 32 24 19\"),\n",
    "    Card(\"Card 3:  1 21 53 59 44 | 69 82 63 72 16 21 14  1\"),\n",
    "    Card(\"Card 4: 41 92 73 84 69 | 59 84 76 51 58  5 54 83\"),\n",
    "    Card(\"Card 5: 87 83 26 28 32 | 88 30 70 12 93 22 82 36\"),\n",
    "    Card(\"Card 6: 31 18 13 56 72 | 74 77 10 23 35 67 36 11\"),\n",
    "]\n",
    "\n",
    "\n",
    "total = 0\n",
    "\n",
    "for card in test_cards:\n",
    "    total += card.value()\n",
    "\n",
    "assert total == 13"
   ]
  },
  {
   "cell_type": "code",
   "execution_count": 10,
   "metadata": {},
   "outputs": [
    {
     "name": "stdout",
     "output_type": "stream",
     "text": [
      "22674\n"
     ]
    }
   ],
   "source": [
    "total = 0\n",
    "\n",
    "for card in cards:\n",
    "    total += card.value()\n",
    "\n",
    "print(total)"
   ]
  },
  {
   "cell_type": "code",
   "execution_count": 11,
   "metadata": {},
   "outputs": [],
   "source": [
    "counts = [1] * len(test_cards)\n",
    "\n",
    "\n",
    "for card_index, card in enumerate(test_cards):\n",
    "    for i in range(len(card.winning_numbers)):\n",
    "        counts[card_index + i + 1] += counts[card_index]\n",
    "    \n",
    "\n",
    "assert sum(counts) == 30"
   ]
  },
  {
   "cell_type": "code",
   "execution_count": 12,
   "metadata": {},
   "outputs": [
    {
     "name": "stdout",
     "output_type": "stream",
     "text": [
      "5747443\n"
     ]
    }
   ],
   "source": [
    "counts = [1] * len(cards)\n",
    "\n",
    "\n",
    "for card_index, card in enumerate(cards):\n",
    "    for i in range(len(card.winning_numbers)):\n",
    "        counts[card_index + i + 1] += counts[card_index]\n",
    "    \n",
    "\n",
    "print(sum(counts))"
   ]
  }
 ],
 "metadata": {
  "kernelspec": {
   "display_name": "Python 3",
   "language": "python",
   "name": "python3"
  },
  "language_info": {
   "codemirror_mode": {
    "name": "ipython",
    "version": 3
   },
   "file_extension": ".py",
   "mimetype": "text/x-python",
   "name": "python",
   "nbconvert_exporter": "python",
   "pygments_lexer": "ipython3",
   "version": "3.11.4"
  }
 },
 "nbformat": 4,
 "nbformat_minor": 2
}
