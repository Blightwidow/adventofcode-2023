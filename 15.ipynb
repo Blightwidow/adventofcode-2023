{
 "cells": [
  {
   "cell_type": "code",
   "execution_count": 194,
   "metadata": {},
   "outputs": [],
   "source": [
    "import re\n",
    "\n",
    "Instruction = tuple[str, int, str]\n",
    "\n",
    "\n",
    "def parse(str: str) -> list[Instruction]:\n",
    "    operations = str.split(\",\")\n",
    "\n",
    "    for i, op in enumerate(operations):\n",
    "        matches = re.match(r\"(\\w+)(=|-)(\\d*)\", op)\n",
    "        operations[i] = (\n",
    "            matches.group(1),\n",
    "            int(matches.group(3) or -1),\n",
    "            matches.group(2),\n",
    "        )\n",
    "\n",
    "    return operations\n",
    "\n",
    "\n",
    "def encode(str: str, key: int = 0) -> int:\n",
    "    if not str:\n",
    "        return key\n",
    "\n",
    "    next_key = ((key + ord(str[0])) * 17) % 256\n",
    "\n",
    "    return encode(str[1:], next_key)\n",
    "\n",
    "\n",
    "def get_boxes(operations: list[Instruction]) -> dict[int, list[tuple[int, int]]]:\n",
    "    boxes = dict.fromkeys(range(256), [])\n",
    "\n",
    "    for label, focal, operation in operations:\n",
    "        i = encode(label)\n",
    "        try:\n",
    "            if operation == \"-\":\n",
    "                element = next(filter(lambda lens: lens[0] == label, boxes[i]), None)\n",
    "\n",
    "                if element:\n",
    "                    current = boxes[i].copy()\n",
    "                    current.remove(element)\n",
    "                    boxes[i] = current\n",
    "            if operation == \"=\":\n",
    "                element = next(filter(lambda lens: lens[0] == label, boxes[i]), None)\n",
    "\n",
    "                if not element:\n",
    "                    current = boxes[i].copy()\n",
    "                    current.append((label, focal))\n",
    "                    boxes[i] = current\n",
    "                else:\n",
    "                    current = boxes[i].copy()\n",
    "                    current[current.index(element)] = (label, focal)\n",
    "                    boxes[i] = current\n",
    "        except ValueError:\n",
    "            pass\n",
    "\n",
    "    return boxes"
   ]
  },
  {
   "cell_type": "code",
   "execution_count": 195,
   "metadata": {},
   "outputs": [],
   "source": [
    "test_input = \"HASH\"\n",
    "\n",
    "assert encode(test_input) == 52"
   ]
  },
  {
   "cell_type": "code",
   "execution_count": 196,
   "metadata": {},
   "outputs": [],
   "source": [
    "test_input = \"rn=1,cm-,qp=3,cm=2,qp-,pc=4,ot=9,ab=5,pc-,pc=6,ot=7\"\n",
    "\n",
    "assert sum([encode(value) for value in test_input.split(',')]) == 1320"
   ]
  },
  {
   "cell_type": "code",
   "execution_count": 197,
   "metadata": {},
   "outputs": [
    {
     "name": "stdout",
     "output_type": "stream",
     "text": [
      "511257\n"
     ]
    }
   ],
   "source": [
    "total = sum([encode(value) for value in open(\"15.txt\").read().split(\",\")])\n",
    "\n",
    "print(total)\n",
    "assert total == 511257"
   ]
  },
  {
   "cell_type": "code",
   "execution_count": 198,
   "metadata": {},
   "outputs": [],
   "source": [
    "test_input = \"rn=1,cm-,qp=3,cm=2,qp-,pc=4,ot=9,ab=5,pc-,pc=6,ot=7\"\n",
    "boxes = get_boxes(parse(test_input))\n",
    "total = 0\n",
    "\n",
    "for box_id, box in enumerate(boxes.values()):\n",
    "    if not box:\n",
    "        continue\n",
    "\n",
    "    total += sum(\n",
    "        [(box_id + 1) * (lens_id + 1) * (lens[1]) for lens_id, lens in enumerate(box)]\n",
    "    )\n",
    "\n",
    "assert total == 145"
   ]
  },
  {
   "cell_type": "code",
   "execution_count": null,
   "metadata": {},
   "outputs": [],
   "source": [
    "boxes = get_boxes(parse(open(\"15.txt\").read()))\n",
    "total = 0\n",
    "\n",
    "for box_id, box in enumerate(boxes.values()):\n",
    "    if not box:\n",
    "        continue\n",
    "\n",
    "    total += sum(\n",
    "        [(box_id + 1) * (lens_id + 1) * (lens[1]) for lens_id, lens in enumerate(box)]\n",
    "    )\n",
    "\n",
    "print(total)"
   ]
  }
 ],
 "metadata": {
  "kernelspec": {
   "display_name": "Python 3",
   "language": "python",
   "name": "python3"
  },
  "language_info": {
   "codemirror_mode": {
    "name": "ipython",
    "version": 3
   },
   "file_extension": ".py",
   "mimetype": "text/x-python",
   "name": "python",
   "nbconvert_exporter": "python",
   "pygments_lexer": "ipython3",
   "version": "3.11.4"
  }
 },
 "nbformat": 4,
 "nbformat_minor": 2
}
