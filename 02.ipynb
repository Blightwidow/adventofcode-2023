{
 "cells": [
  {
   "cell_type": "code",
   "execution_count": 7,
   "metadata": {},
   "outputs": [],
   "source": [
    "import re\n",
    "\n",
    "\n",
    "class Game:\n",
    "    id: int\n",
    "    sets: list[str]\n",
    "\n",
    "    def __init__(self, line: str):\n",
    "        matches = re.search(r\"Game (\\d+): (.*)\", line)\n",
    "        self.id = int(matches.group(1))\n",
    "        self.sets = matches.group(2).split(\"; \")\n",
    "\n",
    "    def is_valid(self, red: int = 0, green: int = 0, blue: int = 0):\n",
    "        for set in self.sets:\n",
    "            matches = re.findall(r\"(\\d+) (red|green|blue)\", set)\n",
    "            for match in matches:\n",
    "                if match[1] == \"red\" and red < int(match[0]):\n",
    "                    return False\n",
    "                if match[1] == \"green\" and green < int(match[0]):\n",
    "                    return False\n",
    "                if match[1] == \"blue\" and blue < int(match[0]):\n",
    "                    return False\n",
    "\n",
    "        return True\n",
    "\n",
    "    def power(self):\n",
    "        red = 0\n",
    "        green = 0\n",
    "        blue = 0\n",
    "\n",
    "        for set in self.sets:\n",
    "            matches = re.findall(r\"(\\d+) (red|green|blue)\", set)\n",
    "            for match in matches:\n",
    "                if match[1] == \"red\":\n",
    "                    red = max(int(match[0]), red)\n",
    "                if match[1] == \"green\":\n",
    "                    green = max(int(match[0]), green)\n",
    "                if match[1] == \"blue\":\n",
    "                    blue = max(int(match[0]), blue)\n",
    "        \n",
    "        return red * green * blue"
   ]
  },
  {
   "cell_type": "code",
   "execution_count": 8,
   "metadata": {},
   "outputs": [],
   "source": [
    "input = open(\"02.txt\").read()\n",
    "\n",
    "games  = [Game(game) for game in input.splitlines()]"
   ]
  },
  {
   "cell_type": "code",
   "execution_count": 9,
   "metadata": {},
   "outputs": [],
   "source": [
    "test_games = [\n",
    "    Game(\"Game 1: 3 blue, 4 red; 1 red, 2 green, 6 blue; 2 green\"),\n",
    "    Game(\"Game 2: 1 blue, 2 green; 3 green, 4 blue, 1 red; 1 green, 1 blue\"),\n",
    "    Game(\"Game 3: 8 green, 6 blue, 20 red; 5 blue, 4 red, 13 green; 5 green, 1 red\"),\n",
    "    Game(\"Game 4: 1 green, 3 red, 6 blue; 3 green, 6 red; 3 green, 15 blue, 14 red\"),\n",
    "    Game(\"Game 5: 6 red, 1 blue, 3 green; 2 blue, 1 red, 2 green\"),\n",
    "]\n",
    "\n",
    "total = 0\n",
    "\n",
    "for game in test_games:\n",
    "    if game.is_valid(red = 12, green = 13, blue = 14):\n",
    "        total += game.id\n",
    "\n",
    "assert total == 8"
   ]
  },
  {
   "cell_type": "code",
   "execution_count": 10,
   "metadata": {},
   "outputs": [
    {
     "name": "stdout",
     "output_type": "stream",
     "text": [
      "1867\n"
     ]
    }
   ],
   "source": [
    "# Valid count sum\n",
    "total = 0\n",
    "\n",
    "for game in games:\n",
    "    if game.is_valid(red = 12, green = 13, blue = 14):\n",
    "        total += game.id\n",
    "\n",
    "print(total)"
   ]
  },
  {
   "cell_type": "code",
   "execution_count": 11,
   "metadata": {},
   "outputs": [],
   "source": [
    "# Power sum\n",
    "total = 0\n",
    "\n",
    "for game in test_games:\n",
    "    total += game.power()\n",
    "\n",
    "assert total == 2286"
   ]
  },
  {
   "cell_type": "code",
   "execution_count": 12,
   "metadata": {},
   "outputs": [
    {
     "name": "stdout",
     "output_type": "stream",
     "text": [
      "84538\n"
     ]
    }
   ],
   "source": [
    "total = 0\n",
    "\n",
    "for game in games:\n",
    "    total += game.power()\n",
    "\n",
    "print(total)"
   ]
  }
 ],
 "metadata": {
  "kernelspec": {
   "display_name": "Python 3",
   "language": "python",
   "name": "python3"
  },
  "language_info": {
   "codemirror_mode": {
    "name": "ipython",
    "version": 3
   },
   "file_extension": ".py",
   "mimetype": "text/x-python",
   "name": "python",
   "nbconvert_exporter": "python",
   "pygments_lexer": "ipython3",
   "version": "3.11.4"
  }
 },
 "nbformat": 4,
 "nbformat_minor": 2
}
