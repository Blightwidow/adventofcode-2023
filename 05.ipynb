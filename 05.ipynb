{
 "cells": [
  {
   "cell_type": "code",
   "execution_count": 184,
   "metadata": {},
   "outputs": [],
   "source": [
    "import re\n",
    "\n",
    "\n",
    "def parse(text):\n",
    "    sections = text.split(\"\\n\\n\")\n",
    "    seeds, maps = [int(n) for n in re.findall(r\"\\d+\", sections[0])], []\n",
    "    for section in sections[1:]:\n",
    "        maps.append([])\n",
    "        for l in section.split(\"\\n\")[1:]:\n",
    "            maps[-1].append(tuple(int(i) for i in l.split()))\n",
    "    return seeds, maps"
   ]
  },
  {
   "cell_type": "code",
   "execution_count": 185,
   "metadata": {},
   "outputs": [],
   "source": [
    "input = open(\"05.txt\").read()\n",
    "\n",
    "seeds, maps = parse(input)"
   ]
  },
  {
   "cell_type": "code",
   "execution_count": 186,
   "metadata": {},
   "outputs": [],
   "source": [
    "import re\n",
    "\n",
    "\n",
    "def shift_range(_range: tuple, maps: list[tuple]) -> int | tuple:\n",
    "    if not maps:\n",
    "        return _range[0]\n",
    "\n",
    "    for destination, start, span in maps[0]:\n",
    "        # range in map\n",
    "        if start <= _range[0] < start + span and start <= _range[1] < start + span:\n",
    "            return shift_range(\n",
    "                (destination + _range[0] - start, destination + _range[1] - start),\n",
    "                maps[1:],\n",
    "            )\n",
    "\n",
    "        # range starts in map but ends outside\n",
    "        if start <= _range[0] < start + span and start + span < _range[1]:\n",
    "            return min(\n",
    "                shift_range(\n",
    "                    (destination + _range[0] - start, destination + span), maps[1:]\n",
    "                ),\n",
    "                shift_range((start + span, _range[1]), maps),\n",
    "            )\n",
    "\n",
    "        # range starts in outside but ends in map\n",
    "        if _range[0] < start and start <= _range[1] < start + span:\n",
    "            return min(\n",
    "                shift_range((_range[0], start - 1), maps),\n",
    "                shift_range((destination, destination + _range[1] - start), maps[1:]),\n",
    "            )\n",
    "\n",
    "        # range outside map with map in between\n",
    "        if _range[0] < start and start + span < _range[1]:\n",
    "            return min(\n",
    "                shift_range((_range[0], start - 1), maps),\n",
    "                shift_range((destination, destination + span), maps[1:]),\n",
    "                shift_range((start + span, _range[1]), maps),\n",
    "            )\n",
    "\n",
    "    # range outside map with no overlap\n",
    "    return shift_range(_range, maps[1:])"
   ]
  },
  {
   "cell_type": "code",
   "execution_count": 187,
   "metadata": {},
   "outputs": [],
   "source": [
    "test_input = \"\"\"seeds: 79 14 55 13\n",
    "\n",
    "seed-to-soil map:\n",
    "50 98 2\n",
    "52 50 48\n",
    "\n",
    "soil-to-fertilizer map:\n",
    "0 15 37\n",
    "37 52 2\n",
    "39 0 15\n",
    "\n",
    "fertilizer-to-water map:\n",
    "49 53 8\n",
    "0 11 42\n",
    "42 0 7\n",
    "57 7 4\n",
    "\n",
    "water-to-light map:\n",
    "88 18 7\n",
    "18 25 70\n",
    "\n",
    "light-to-temperature map:\n",
    "45 77 23\n",
    "81 45 19\n",
    "68 64 13\n",
    "\n",
    "temperature-to-humidity map:\n",
    "0 69 1\n",
    "1 0 69\n",
    "\n",
    "humidity-to-location map:\n",
    "60 56 37\n",
    "56 93 4\"\"\"\n",
    "\n",
    "test_seeds, test_maps = parse(test_input)\n",
    "\n",
    "seed_ranges = [(i, i) for i in test_seeds]\n",
    "\n",
    "assert min((shift_range(_range, test_maps) for _range in seed_ranges)) == 35"
   ]
  },
  {
   "cell_type": "code",
   "execution_count": 188,
   "metadata": {},
   "outputs": [
    {
     "name": "stdout",
     "output_type": "stream",
     "text": [
      "214922730\n"
     ]
    }
   ],
   "source": [
    "seed_ranges = [(i, i) for i in seeds]\n",
    "\n",
    "print(min((shift_range(_range, maps) for _range in seed_ranges)))"
   ]
  },
  {
   "cell_type": "code",
   "execution_count": 189,
   "metadata": {},
   "outputs": [
    {
     "name": "stdout",
     "output_type": "stream",
     "text": [
      "148041808\n"
     ]
    }
   ],
   "source": [
    "seed_ranges = [(seeds[i], seeds[i] + seeds[i+1] - 1) for i in range(0, len(seeds), 2)]\n",
    "\n",
    "print(min((shift_range(_range, maps) for _range in seed_ranges)))"
   ]
  }
 ],
 "metadata": {
  "kernelspec": {
   "display_name": "Python 3",
   "language": "python",
   "name": "python3"
  },
  "language_info": {
   "codemirror_mode": {
    "name": "ipython",
    "version": 3
   },
   "file_extension": ".py",
   "mimetype": "text/x-python",
   "name": "python",
   "nbconvert_exporter": "python",
   "pygments_lexer": "ipython3",
   "version": "3.11.4"
  }
 },
 "nbformat": 4,
 "nbformat_minor": 2
}
