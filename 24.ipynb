{
 "cells": [
  {
   "cell_type": "code",
   "execution_count": 80,
   "metadata": {},
   "outputs": [],
   "source": [
    "import re\n",
    "\n",
    "Point = tuple[float, float, float]\n",
    "Object = tuple[Point, Point]\n",
    "\n",
    "\n",
    "def parse(input_string: str):\n",
    "    output = []\n",
    "    for line in input_string.splitlines():\n",
    "        matches = re.match(r\"(.+) @ (.+)\", line)\n",
    "        output.append((eval(matches.group(1)), eval(matches.group(2))))\n",
    "\n",
    "    return output"
   ]
  },
  {
   "cell_type": "code",
   "execution_count": 81,
   "metadata": {},
   "outputs": [],
   "source": [
    "def sign(x, y):\n",
    "    return abs(x) + abs(y) == abs(x + y)\n",
    "\n",
    "\n",
    "def intersect(o1: Object, o2: Object):\n",
    "    p1, v1 = o1\n",
    "    p3, v3 = o2\n",
    "\n",
    "    if v1[0] * v3[1] == v1[1] * v3[0]:\n",
    "        return None\n",
    "\n",
    "    p2 = tuple(map(sum, zip(p1, v1)))\n",
    "    p4 = tuple(map(sum, zip(p3, v3)))\n",
    "\n",
    "    x1, y1, _ = p1\n",
    "    x2, y2, _ = p2\n",
    "    x3, y3, _ = p3\n",
    "    x4, y4, _ = p4\n",
    "\n",
    "    x = ((x1 * y2 - y1 * x2) * (x3 - x4) - (x1 - x2) * (x3 * y4 - y3 * x4)) / (\n",
    "        (x1 - x2) * (y3 - y4) - (y1 - y2) * (x3 - x4)\n",
    "    )\n",
    "    y = ((x1 * y2 - y1 * x2) * (y3 - y4) - (y1 - y2) * (x3 * y4 - y3 * x4)) / (\n",
    "        (x1 - x2) * (y3 - y4) - (y1 - y2) * (x3 - x4)\n",
    "    )\n",
    "\n",
    "    if (\n",
    "        sign(x - x1, v1[0])\n",
    "        and sign(x - x3, v3[0])\n",
    "        and sign(y - y1, v1[1])\n",
    "        and sign(y - y3, v3[1])\n",
    "    ):\n",
    "        return (x, y)\n",
    "\n",
    "    return None\n",
    "\n",
    "\n",
    "def test_intesersect(objects: list[Object], min: float, max: float):\n",
    "    count = 0\n",
    "\n",
    "    for i in range(len(objects)):\n",
    "        for j in range(i + 1, len(objects)):\n",
    "            interection = intersect(objects[i], objects[j])\n",
    "\n",
    "            if interection is None:\n",
    "                continue\n",
    "\n",
    "            ix, iy = interection\n",
    "            if min <= ix <= max and min <= iy <= max:\n",
    "                count += 1\n",
    "\n",
    "    return count"
   ]
  },
  {
   "cell_type": "code",
   "execution_count": 82,
   "metadata": {},
   "outputs": [],
   "source": [
    "test_input = \"\"\"\\\n",
    "19, 13, 30 @ -2,  1, -2\n",
    "18, 19, 22 @ -1, -1, -2\n",
    "20, 25, 34 @ -2, -2, -4\n",
    "12, 31, 28 @ -1, -2, -1\n",
    "20, 19, 15 @  1, -5, -3\"\"\"\n",
    "\n",
    "assert test_intesersect(parse(test_input), 7, 27) == 2"
   ]
  },
  {
   "cell_type": "code",
   "execution_count": 83,
   "metadata": {},
   "outputs": [
    {
     "name": "stdout",
     "output_type": "stream",
     "text": [
      "Test 1: 15558\n"
     ]
    }
   ],
   "source": [
    "value = test_intesersect(parse(open(\"24.txt\").read()), 200000000000000, 400000000000000)\n",
    "\n",
    "print(f\"Test 1: {value}\")\n",
    "assert value == 15558"
   ]
  }
 ],
 "metadata": {
  "kernelspec": {
   "display_name": "Python 3",
   "language": "python",
   "name": "python3"
  },
  "language_info": {
   "codemirror_mode": {
    "name": "ipython",
    "version": 3
   },
   "file_extension": ".py",
   "mimetype": "text/x-python",
   "name": "python",
   "nbconvert_exporter": "python",
   "pygments_lexer": "ipython3",
   "version": "3.11.4"
  }
 },
 "nbformat": 4,
 "nbformat_minor": 2
}
