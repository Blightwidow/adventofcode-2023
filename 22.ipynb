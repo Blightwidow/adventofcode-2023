{
 "cells": [
  {
   "cell_type": "code",
   "execution_count": 82,
   "metadata": {},
   "outputs": [],
   "source": [
    "from itertools import chain\n",
    "\n",
    "Coord = tuple[int, int, int]\n",
    "Brick = tuple[Coord, Coord]\n",
    "\n",
    "\n",
    "def parse(input_string: str) -> list[Brick]:\n",
    "    output = []\n",
    "    for line in input_string.splitlines():\n",
    "        coords = line.split(\"~\")\n",
    "        start = eval(coords[0])\n",
    "        end = eval(coords[1])\n",
    "        brick_points = []\n",
    "        for i in range(start[0], end[0] + 1):\n",
    "            for j in range(start[1], end[1] + 1):\n",
    "                for k in range(start[2], end[2] + 1):\n",
    "                    brick_points.append((i, j, k))\n",
    "\n",
    "        output.append(brick_points)\n",
    "\n",
    "    return sorted(output, key=lambda x: min([z for _, _, z in x]))\n",
    "\n",
    "\n",
    "def settle_bricks(bricks: list[Brick]):\n",
    "    settled = set()\n",
    "    output_bricks = []\n",
    "    for brick in bricks:\n",
    "        min_z = 1\n",
    "        max_z = min([point[2] for point in brick])\n",
    "        for i in range(max_z - 1, 0, -1):\n",
    "            for point in brick:\n",
    "                if (point[0], point[1], i) in settled:\n",
    "                    min_z = max(min_z, i + 1)\n",
    "                    break\n",
    "\n",
    "        next_positions = [(x, y, z - max_z + min_z) for x, y, z in brick]\n",
    "        settled.update(next_positions)\n",
    "        output_bricks.append(next_positions)\n",
    "\n",
    "    return output_bricks\n",
    "\n",
    "\n",
    "def identify_redundant_bricks(bricks: list[Brick]) -> int:\n",
    "    positions = set(chain.from_iterable(bricks))\n",
    "    supports = []\n",
    "\n",
    "    for brick in bricks:\n",
    "        structural = set()\n",
    "        for x, y, z in brick:\n",
    "            if (x, y, z + 1) in positions and (x, y, z + 1) not in brick:\n",
    "                index = next(i for i, b in enumerate(bricks) if (x, y, z + 1) in b)\n",
    "                structural.add(index)\n",
    "\n",
    "        supports.append(structural)\n",
    "\n",
    "    redudant_bricks = []\n",
    "    for id in range(len(bricks)):\n",
    "        support = supports[id]\n",
    "        if len(support) == 0 or all(\n",
    "            list(chain.from_iterable(supports[:id] + supports[id + 1 :])).count(i) > 0\n",
    "            for i in support\n",
    "        ):\n",
    "            redudant_bricks.append(id)\n",
    "\n",
    "    return redudant_bricks"
   ]
  },
  {
   "cell_type": "code",
   "execution_count": 83,
   "metadata": {},
   "outputs": [],
   "source": [
    "test_input = \"\"\"\\\n",
    "1,0,1~1,2,1\n",
    "0,0,2~2,0,2\n",
    "0,2,3~2,2,3\n",
    "0,0,4~0,2,4\n",
    "2,0,5~2,2,5\n",
    "0,1,6~2,1,6\n",
    "1,1,8~1,1,9\"\"\"\n",
    "\n",
    "bricks = settle_bricks(parse(test_input))\n",
    "assert len(identify_redundant_bricks(bricks)) == 5"
   ]
  },
  {
   "cell_type": "code",
   "execution_count": 84,
   "metadata": {},
   "outputs": [
    {
     "name": "stdout",
     "output_type": "stream",
     "text": [
      "Part 1: 465\n"
     ]
    }
   ],
   "source": [
    "bricks = settle_bricks(parse(open(\"22.txt\").read()))\n",
    "value = len(identify_redundant_bricks(bricks))\n",
    "\n",
    "print(f\"Part 1: {value}\")\n",
    "assert value == 465"
   ]
  }
 ],
 "metadata": {
  "kernelspec": {
   "display_name": "Python 3",
   "language": "python",
   "name": "python3"
  },
  "language_info": {
   "codemirror_mode": {
    "name": "ipython",
    "version": 3
   },
   "file_extension": ".py",
   "mimetype": "text/x-python",
   "name": "python",
   "nbconvert_exporter": "python",
   "pygments_lexer": "ipython3",
   "version": "3.11.4"
  }
 },
 "nbformat": 4,
 "nbformat_minor": 2
}
