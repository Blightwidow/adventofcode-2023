{
 "cells": [
  {
   "cell_type": "code",
   "execution_count": 139,
   "metadata": {},
   "outputs": [],
   "source": [
    "def parse(input_string) -> dict[complex, int]:\n",
    "    return {\n",
    "        i + j * 1j: int(c)\n",
    "        for i, r in enumerate(input_string.splitlines())\n",
    "        for j, c in enumerate(r.strip())\n",
    "    }"
   ]
  },
  {
   "cell_type": "code",
   "execution_count": 140,
   "metadata": {},
   "outputs": [],
   "source": [
    "from heapq import heappop, heappush as push\n",
    "\n",
    "\n",
    "# Direction is a complex number as I saw someone on Reddit do it for 16 yesterday\n",
    "# 1j = right\n",
    "# -1j = left\n",
    "# 1 = down\n",
    "# -1 = up\n",
    "def find_path_value(game_map: dict, min_step: int, max_step: int) -> int:\n",
    "    todos = [(0, 0, 0, 1), (0, 0, 0, 1j)]\n",
    "    visited = set()\n",
    "    iterator = 0  # To avoid comparing position when nodes have same value\n",
    "\n",
    "    while todos:\n",
    "        value, _, position, direction = heappop(todos)\n",
    "\n",
    "        if position == [*game_map][-1]:\n",
    "            return value\n",
    "\n",
    "        if (position, direction) in visited:\n",
    "            continue\n",
    "\n",
    "        visited.add((position, direction))\n",
    "\n",
    "        for next_direction in 1j / direction, -1j / direction:\n",
    "            for i in range(min_step, max_step + 1):\n",
    "                if position + next_direction * i in game_map:\n",
    "                    iterator += 1\n",
    "                    push(\n",
    "                        todos,\n",
    "                        (\n",
    "                            value\n",
    "                            + sum(\n",
    "                                game_map[position + next_direction * j]\n",
    "                                for j in range(1, i + 1)\n",
    "                            ),\n",
    "                            iterator,\n",
    "                            position + next_direction * i,\n",
    "                            next_direction,\n",
    "                        ),\n",
    "                    )"
   ]
  },
  {
   "cell_type": "code",
   "execution_count": null,
   "metadata": {},
   "outputs": [],
   "source": [
    "test_input = \"\"\"\\\n",
    "2413432311323\n",
    "3215453535623\n",
    "3255245654254\n",
    "3446585845452\n",
    "4546657867536\n",
    "1438598798454\n",
    "4457876987766\n",
    "3637877979653\n",
    "4654967986887\n",
    "4564679986453\n",
    "1224686865563\n",
    "2546548887735\n",
    "4322674655533\"\"\""
   ]
  },
  {
   "cell_type": "code",
   "execution_count": 141,
   "metadata": {},
   "outputs": [],
   "source": [
    "GAME_MAP = parse(test_input)\n",
    "\n",
    "assert find_path_value(GAME_MAP, 1, 3) == 102"
   ]
  },
  {
   "cell_type": "code",
   "execution_count": 142,
   "metadata": {},
   "outputs": [
    {
     "name": "stdout",
     "output_type": "stream",
     "text": [
      "Part 1: 638\n"
     ]
    }
   ],
   "source": [
    "GAME_MAP = parse(open(\"17.txt\").read())\n",
    "\n",
    "value = find_path_value(GAME_MAP, 1, 3)\n",
    "\n",
    "print(f\"Part 1: {value}\")\n",
    "\n",
    "assert value == 638"
   ]
  },
  {
   "cell_type": "code",
   "execution_count": 143,
   "metadata": {},
   "outputs": [],
   "source": [
    "GAME_MAP = parse(test_input)\n",
    "\n",
    "assert find_path_value(GAME_MAP, 4, 10) == 94"
   ]
  },
  {
   "cell_type": "code",
   "execution_count": 144,
   "metadata": {},
   "outputs": [
    {
     "name": "stdout",
     "output_type": "stream",
     "text": [
      "Part 2: 748\n"
     ]
    }
   ],
   "source": [
    "GAME_MAP = parse(open(\"17.txt\").read())\n",
    "\n",
    "value = find_path_value(GAME_MAP, 4, 10)\n",
    "\n",
    "print(f\"Part 2: {value}\")\n",
    "\n",
    "assert value == 748"
   ]
  }
 ],
 "metadata": {
  "kernelspec": {
   "display_name": "Python 3",
   "language": "python",
   "name": "python3"
  },
  "language_info": {
   "codemirror_mode": {
    "name": "ipython",
    "version": 3
   },
   "file_extension": ".py",
   "mimetype": "text/x-python",
   "name": "python",
   "nbconvert_exporter": "python",
   "pygments_lexer": "ipython3",
   "version": "3.11.4"
  }
 },
 "nbformat": 4,
 "nbformat_minor": 2
}
