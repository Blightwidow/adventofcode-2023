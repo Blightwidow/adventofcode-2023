{
 "cells": [
  {
   "cell_type": "code",
   "execution_count": 5,
   "metadata": {},
   "outputs": [],
   "source": [
    "lines = open(\"01.txt\").read().splitlines()"
   ]
  },
  {
   "cell_type": "code",
   "execution_count": 6,
   "metadata": {},
   "outputs": [],
   "source": [
    "import re\n",
    "\n",
    "\n",
    "def text_to_int(text):\n",
    "    if text == \"one\":\n",
    "        return 1\n",
    "    if text == \"two\":\n",
    "        return 2\n",
    "    if text == \"three\":\n",
    "        return 3\n",
    "    if text == \"four\":\n",
    "        return 4\n",
    "    if text == \"five\":\n",
    "        return 5\n",
    "    if text == \"six\":\n",
    "        return 6\n",
    "    if text == \"seven\":\n",
    "        return 7\n",
    "    if text == \"eight\":\n",
    "        return 8\n",
    "    if text == \"nine\":\n",
    "        return 9\n",
    "\n",
    "    return int(text)\n",
    "\n",
    "\n",
    "def parse_digit(line):\n",
    "    numbers = re.findall(r\"\\d\", line)\n",
    "    return 10 * text_to_int(numbers[0]) + 1 * text_to_int(numbers[-1])\n",
    "\n",
    "\n",
    "def parse_digit_and_letters(line):\n",
    "    first_digit = re.search(\n",
    "        r\"(\\d|one|two|three|four|five|six|seven|eight|nine)\", line\n",
    "    ).group(1)\n",
    "    last_digit = re.search(\n",
    "        r\"(\\d|eno|owt|eerht|ruof|evif|xis|neves|thgie|enin)\", line[::-1]\n",
    "    ).group(1)\n",
    "    return 10 * text_to_int(first_digit) + 1 * text_to_int(last_digit[::-1])"
   ]
  },
  {
   "cell_type": "code",
   "execution_count": 7,
   "metadata": {},
   "outputs": [],
   "source": [
    "total = 0\n",
    "test_lines = [\"1abc2\",\"pqr3stu8vwx\",\"a1b2c3d4e5f\",\"treb7uchet\"]\n",
    "\n",
    "\n",
    "for line in test_lines:\n",
    "    total += parse_digit(line)\n",
    "\n",
    "assert total == 142"
   ]
  },
  {
   "cell_type": "code",
   "execution_count": 8,
   "metadata": {},
   "outputs": [
    {
     "name": "stdout",
     "output_type": "stream",
     "text": [
      "54927\n"
     ]
    }
   ],
   "source": [
    "# With only digits\n",
    "total = 0\n",
    "\n",
    "for line in lines:\n",
    "    total += parse_digit(line)\n",
    "\n",
    "print(total)"
   ]
  },
  {
   "cell_type": "code",
   "execution_count": 10,
   "metadata": {},
   "outputs": [
    {
     "name": "stdout",
     "output_type": "stream",
     "text": [
      "445\n"
     ]
    }
   ],
   "source": [
    "test_lines = [\n",
    "    \"two1nine\",\n",
    "    \"eightwothree\",\n",
    "    \"abcone2threexyz\",\n",
    "    \"xtwone3four\",\n",
    "    \"4nineeightseven2\",\n",
    "    \"zoneight234\",\n",
    "    \"7pqrstsixteen\",\n",
    "    \"7pqrstseventeen\",\n",
    "    \"7pqrstfiveteen\",\n",
    "    \"1eightwo\",\n",
    "]\n",
    "\n",
    "total = 0\n",
    "\n",
    "for line in test_lines:\n",
    "    total += parse_digit_and_letters(line)\n",
    "\n",
    "print(total)\n",
    "\n",
    "assert total == 281 + 77 + 75 + 12"
   ]
  },
  {
   "cell_type": "code",
   "execution_count": 11,
   "metadata": {},
   "outputs": [
    {
     "name": "stdout",
     "output_type": "stream",
     "text": [
      "54581\n"
     ]
    }
   ],
   "source": [
    "# With digits and letters\n",
    "total = 0\n",
    "\n",
    "for line in lines:\n",
    "    total += parse_digit_and_letters(line)\n",
    "\n",
    "print(total)"
   ]
  }
 ],
 "metadata": {
  "kernelspec": {
   "display_name": "Python 3",
   "language": "python",
   "name": "python3"
  },
  "language_info": {
   "codemirror_mode": {
    "name": "ipython",
    "version": 3
   },
   "file_extension": ".py",
   "mimetype": "text/x-python",
   "name": "python",
   "nbconvert_exporter": "python",
   "pygments_lexer": "ipython3",
   "version": "3.11.4"
  }
 },
 "nbformat": 4,
 "nbformat_minor": 2
}
