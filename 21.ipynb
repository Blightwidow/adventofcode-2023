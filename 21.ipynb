{
 "cells": [
  {
   "cell_type": "code",
   "execution_count": 131,
   "metadata": {},
   "outputs": [],
   "source": [
    "from functools import cache\n",
    "\n",
    "\n",
    "def get_starting_position(input_string: str):\n",
    "    for y, line in enumerate(input_string.splitlines()):\n",
    "        for x, char in enumerate(line):\n",
    "            if char == \"S\":\n",
    "                return complex(y, x)\n",
    "\n",
    "\n",
    "@cache\n",
    "def get_next_steps(input_string: str, pos: complex):\n",
    "    map = input_string.replace(\"S\", \".\").splitlines()\n",
    "    outputs = set()\n",
    "    max_x = len(map[0])\n",
    "    max_y = len(map)\n",
    "\n",
    "    if map[(int(pos.real) - 1) % max_y][int(pos.imag) % max_x] != \"#\":\n",
    "        outputs.add(pos - 1)\n",
    "    if map[int(pos.real) % max_y][(int(pos.imag) - 1) % max_x] != \"#\":\n",
    "        outputs.add(pos - 1j)\n",
    "    if map[(int(pos.real) + 1) % max_y][int(pos.imag) % max_x] != \"#\":\n",
    "        outputs.add(pos + 1)\n",
    "    if map[int(pos.real) % max_y][(int(pos.imag) + 1) % max_x] != \"#\":\n",
    "        outputs.add(pos + 1j)\n",
    "\n",
    "    return outputs\n",
    "\n",
    "\n",
    "def iterate(input_string: str, max_step: int):\n",
    "    step = 0\n",
    "    possibilities = set([get_starting_position(input_string)])\n",
    "\n",
    "    while step < max_step:\n",
    "        next_possibilities = set()\n",
    "        for possibility in possibilities:\n",
    "            next_possibilities.update(get_next_steps(input_string, possibility))\n",
    "\n",
    "        possibilities = next_possibilities\n",
    "        step += 1\n",
    "\n",
    "    return possibilities\n",
    "\n",
    "\n",
    "def prune_to_map(input_string: str, positions: set[complex]) -> set[complex]:\n",
    "    map = input_string.splitlines()\n",
    "    output = set()\n",
    "    for pos in positions:\n",
    "        if (0 <= pos.real < len(map)) and (0 <= pos.imag < len(map[0])):\n",
    "            output.add(pos)\n",
    "    return output"
   ]
  },
  {
   "cell_type": "code",
   "execution_count": 132,
   "metadata": {},
   "outputs": [],
   "source": [
    "test_input = \"\"\"\\\n",
    "...........\n",
    ".....###.#.\n",
    ".###.##..#.\n",
    "..#.#...#..\n",
    "....#.#....\n",
    ".##..S####.\n",
    ".##..#...#.\n",
    ".......##..\n",
    ".##.#.####.\n",
    ".##..##.##.\n",
    "...........\"\"\""
   ]
  },
  {
   "cell_type": "code",
   "execution_count": 133,
   "metadata": {},
   "outputs": [],
   "source": [
    "assert len(prune_to_map(test_input, iterate(test_input, 6))) == 16"
   ]
  },
  {
   "cell_type": "code",
   "execution_count": 134,
   "metadata": {},
   "outputs": [
    {
     "name": "stdout",
     "output_type": "stream",
     "text": [
      "Part 1: 3642\n"
     ]
    }
   ],
   "source": [
    "input = open(\"21.txt\").read()\n",
    "value = len(prune_to_map(input, iterate(input, 64)))\n",
    "print(f\"Part 1: {value}\")\n",
    "assert value == 3642"
   ]
  },
  {
   "cell_type": "code",
   "execution_count": 135,
   "metadata": {},
   "outputs": [
    {
     "ename": "KeyboardInterrupt",
     "evalue": "",
     "output_type": "error",
     "traceback": [
      "\u001b[0;31m---------------------------------------------------------------------------\u001b[0m",
      "\u001b[0;31mKeyboardInterrupt\u001b[0m                         Traceback (most recent call last)",
      "Cell \u001b[0;32mIn[135], line 1\u001b[0m\n\u001b[0;32m----> 1\u001b[0m \u001b[38;5;28;01massert\u001b[39;00m \u001b[38;5;28mlen\u001b[39m(\u001b[43miterate\u001b[49m\u001b[43m(\u001b[49m\u001b[43mtest_input\u001b[49m\u001b[43m,\u001b[49m\u001b[43m \u001b[49m\u001b[38;5;241;43m500\u001b[39;49m\u001b[43m)\u001b[49m) \u001b[38;5;241m==\u001b[39m \u001b[38;5;241m167004\u001b[39m\n",
      "Cell \u001b[0;32mIn[131], line 37\u001b[0m, in \u001b[0;36miterate\u001b[0;34m(input_string, max_step)\u001b[0m\n\u001b[1;32m     35\u001b[0m next_possibilities \u001b[38;5;241m=\u001b[39m \u001b[38;5;28mset\u001b[39m()\n\u001b[1;32m     36\u001b[0m \u001b[38;5;28;01mfor\u001b[39;00m possibility \u001b[38;5;129;01min\u001b[39;00m possibilities:\n\u001b[0;32m---> 37\u001b[0m     next_possibilities\u001b[38;5;241m.\u001b[39mupdate(\u001b[43mget_next_steps\u001b[49m\u001b[43m(\u001b[49m\u001b[43minput_string\u001b[49m\u001b[43m,\u001b[49m\u001b[43m \u001b[49m\u001b[43mpossibility\u001b[49m\u001b[43m)\u001b[49m)\n\u001b[1;32m     39\u001b[0m possibilities \u001b[38;5;241m=\u001b[39m next_possibilities\n\u001b[1;32m     40\u001b[0m step \u001b[38;5;241m+\u001b[39m\u001b[38;5;241m=\u001b[39m \u001b[38;5;241m1\u001b[39m\n",
      "\u001b[0;31mKeyboardInterrupt\u001b[0m: "
     ]
    }
   ],
   "source": [
    "assert len(iterate(test_input, 500)) == 167004"
   ]
  },
  {
   "cell_type": "code",
   "execution_count": null,
   "metadata": {},
   "outputs": [],
   "source": [
    "input = open(\"21.txt\").read()\n",
    "# value = len(iterate(input, 500))\n",
    "# print(f\"Part 2: {value}\")\n",
    "# assert value == 3642"
   ]
  }
 ],
 "metadata": {
  "kernelspec": {
   "display_name": "Python 3",
   "language": "python",
   "name": "python3"
  },
  "language_info": {
   "codemirror_mode": {
    "name": "ipython",
    "version": 3
   },
   "file_extension": ".py",
   "mimetype": "text/x-python",
   "name": "python",
   "nbconvert_exporter": "python",
   "pygments_lexer": "ipython3",
   "version": "3.11.4"
  }
 },
 "nbformat": 4,
 "nbformat_minor": 2
}
