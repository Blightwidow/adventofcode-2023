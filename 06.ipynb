{
 "cells": [
  {
   "cell_type": "code",
   "execution_count": 139,
   "metadata": {},
   "outputs": [],
   "source": [
    "import re\n",
    "\n",
    "def parse(text):\n",
    "    lines = text.split(\"\\n\")\n",
    "    times = [int(n) for n in re.findall(r\"\\d+\", lines[0])]\n",
    "    distances = [int(n) for n in re.findall(r\"\\d+\", lines[1])]\n",
    "\n",
    "    return [(t, d) for t, d in zip(times, distances)]"
   ]
  },
  {
   "cell_type": "code",
   "execution_count": 140,
   "metadata": {},
   "outputs": [],
   "source": [
    "input = open(\"06.txt\").read()\n",
    "\n",
    "races = parse(input)"
   ]
  },
  {
   "cell_type": "code",
   "execution_count": 141,
   "metadata": {},
   "outputs": [],
   "source": [
    "import math\n",
    "\n",
    "\n",
    "def get_solution_counts(races: list[tuple]) -> list[int]:\n",
    "    counts = []\n",
    "    for time, distance in races:\n",
    "        intersection_low = (time - math.sqrt(time**2 - 4 * distance)) / 2\n",
    "        intersection_high = (time + math.sqrt(time**2 - 4 * distance)) / 2\n",
    "\n",
    "        minimum = intersection_low + 1 if intersection_low.is_integer() else math.ceil(intersection_low)\n",
    "        maximum = intersection_high - 1 if intersection_high.is_integer() else math.floor(intersection_high)\n",
    "        \n",
    "        counts.append(maximum - minimum + 1)\n",
    "\n",
    "    return counts"
   ]
  },
  {
   "cell_type": "code",
   "execution_count": 142,
   "metadata": {},
   "outputs": [],
   "source": [
    "import math\n",
    "\n",
    "test_input = \"\"\"Time:      7  15   30\n",
    "Distance:  9  40  200\"\"\"\n",
    "\n",
    "test_races = parse(test_input)\n",
    "\n",
    "solutions = get_solution_counts(test_races)\n",
    "\n",
    "assert math.prod(solutions) == 288"
   ]
  },
  {
   "cell_type": "code",
   "execution_count": 143,
   "metadata": {},
   "outputs": [
    {
     "name": "stdout",
     "output_type": "stream",
     "text": [
      "1413720\n"
     ]
    }
   ],
   "source": [
    "solutions = get_solution_counts(races)\n",
    "\n",
    "print(math.prod(solutions))"
   ]
  },
  {
   "cell_type": "code",
   "execution_count": 144,
   "metadata": {},
   "outputs": [],
   "source": [
    "test_time = int(\"\".join([str(race[0]) for race in test_races]))\n",
    "test_distance = int(\"\".join([str(race[1]) for race in test_races]))\n",
    "\n",
    "solutions = get_solution_counts([(test_time, test_distance)])\n",
    "\n",
    "assert math.prod(solutions) == 71503"
   ]
  },
  {
   "cell_type": "code",
   "execution_count": 145,
   "metadata": {},
   "outputs": [
    {
     "name": "stdout",
     "output_type": "stream",
     "text": [
      "30565288\n"
     ]
    }
   ],
   "source": [
    "time = int(\"\".join([str(race[0]) for race in races]))\n",
    "distance = int(\"\".join([str(race[1]) for race in races]))\n",
    "\n",
    "solutions = get_solution_counts([(time, distance)])\n",
    "\n",
    "print(math.prod(solutions))"
   ]
  }
 ],
 "metadata": {
  "kernelspec": {
   "display_name": "Python 3",
   "language": "python",
   "name": "python3"
  },
  "language_info": {
   "codemirror_mode": {
    "name": "ipython",
    "version": 3
   },
   "file_extension": ".py",
   "mimetype": "text/x-python",
   "name": "python",
   "nbconvert_exporter": "python",
   "pygments_lexer": "ipython3",
   "version": "3.11.4"
  }
 },
 "nbformat": 4,
 "nbformat_minor": 2
}
