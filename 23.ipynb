{
 "cells": [
  {
   "cell_type": "code",
   "execution_count": 172,
   "metadata": {},
   "outputs": [],
   "source": [
    "import re\n",
    "\n",
    "SLOPE_REGEX = re.compile(r\">|v|<\")\n",
    "\n",
    "\n",
    "def get_end_position(input_string: str) -> complex:\n",
    "    game_map = input_string.splitlines()\n",
    "    for x in range(len(game_map[0])):\n",
    "        if game_map[len(game_map) - 1][x] == \".\":\n",
    "            return complex(len(game_map) - 1, x)\n",
    "\n",
    "\n",
    "def iterate(\n",
    "    input_string: str,\n",
    "    start_position: complex,\n",
    "    end_position: complex,\n",
    "    visited,\n",
    "):\n",
    "    steps = 0\n",
    "    position = start_position\n",
    "    game_map = input_string.splitlines()\n",
    "\n",
    "    while position != end_position:\n",
    "        visited.add(position)\n",
    "        next_positions = map(lambda move: position + move, [1j, -1j, 1, -1])\n",
    "        next_positions = list(\n",
    "            filter(\n",
    "                lambda pos: pos not in visited\n",
    "                and pos.imag >= 0\n",
    "                and pos.real >= 0\n",
    "                and pos.imag < len(game_map[0])\n",
    "                and pos.real < len(game_map),\n",
    "                next_positions,\n",
    "            )\n",
    "        )\n",
    "        next_positions = list(\n",
    "            filter(\n",
    "                lambda pos: game_map[int(pos.real)][int(pos.imag)] != \"#\"\n",
    "                and (\n",
    "                    pos != position - 1 or game_map[int(pos.real)][int(pos.imag)] != \"v\"\n",
    "                )\n",
    "                and (\n",
    "                    pos != position + 1j\n",
    "                    or game_map[int(pos.real)][int(pos.imag)] != \"<\"\n",
    "                )\n",
    "                and (\n",
    "                    pos != position - 1j\n",
    "                    or game_map[int(pos.real)][int(pos.imag)] != \">\"\n",
    "                ),\n",
    "                next_positions,\n",
    "            )\n",
    "        )\n",
    "\n",
    "        if len(next_positions) == 0:\n",
    "            return None\n",
    "\n",
    "        steps += 1\n",
    "\n",
    "        if len(next_positions) == 1:\n",
    "            position = next_positions[0]\n",
    "\n",
    "        else:\n",
    "            sub_steps = list(\n",
    "                map(\n",
    "                    lambda x: iterate(\n",
    "                        input_string,\n",
    "                        start_position=next_positions[x],\n",
    "                        end_position=end_position,\n",
    "                        visited=visited.copy(),\n",
    "                    ),\n",
    "                    range(len(next_positions)),\n",
    "                )\n",
    "            )\n",
    "            sub_steps = list(filter(lambda x: x is not None, sub_steps))\n",
    "\n",
    "            if len(sub_steps) == 0:\n",
    "                return None\n",
    "            else:\n",
    "                return steps + max(sub_steps)\n",
    "\n",
    "    return steps"
   ]
  },
  {
   "cell_type": "code",
   "execution_count": 173,
   "metadata": {},
   "outputs": [],
   "source": [
    "test_input = \"\"\"\\\n",
    "#.#####################\n",
    "#.......#########...###\n",
    "#######.#########.#.###\n",
    "###.....#.>.>.###.#.###\n",
    "###v#####.#v#.###.#.###\n",
    "###.>...#.#.#.....#...#\n",
    "###v###.#.#.#########.#\n",
    "###...#.#.#.......#...#\n",
    "#####.#.#.#######.#.###\n",
    "#.....#.#.#.......#...#\n",
    "#.#####.#.#.#########v#\n",
    "#.#...#...#...###...>.#\n",
    "#.#.#v#######v###.###v#\n",
    "#...#.>.#...>.>.#.###.#\n",
    "#####v#.#.###v#.#.###.#\n",
    "#.....#...#...#.#.#...#\n",
    "#.#########.###.#.#.###\n",
    "#...###...#...#...#.###\n",
    "###.###.#.###v#####v###\n",
    "#...#...#.#.>.>.#.>.###\n",
    "#.###.###.#.###.#.#v###\n",
    "#.....###...###...#...#\n",
    "#####################.#\"\"\""
   ]
  },
  {
   "cell_type": "code",
   "execution_count": 174,
   "metadata": {},
   "outputs": [],
   "source": [
    "assert iterate(test_input, 0 + 1j, get_end_position(test_input), set()) == 94"
   ]
  },
  {
   "cell_type": "code",
   "execution_count": 175,
   "metadata": {},
   "outputs": [
    {
     "name": "stdout",
     "output_type": "stream",
     "text": [
      "Part 1: 2386\n"
     ]
    }
   ],
   "source": [
    "input = open(\"23.txt\").read()\n",
    "value = iterate(input, 0 + 1j, get_end_position(input), set())\n",
    "\n",
    "print(f\"Part 1: {value}\")\n",
    "assert value == 2386"
   ]
  },
  {
   "cell_type": "code",
   "execution_count": 176,
   "metadata": {},
   "outputs": [],
   "source": [
    "import re\n",
    "\n",
    "test_input = re.sub(SLOPE_REGEX, \".\", test_input)\n",
    "assert iterate(test_input, 0 + 1j, get_end_position(test_input), set()) == 154"
   ]
  },
  {
   "cell_type": "code",
   "execution_count": 177,
   "metadata": {},
   "outputs": [],
   "source": [
    "input = open(\"23.txt\").read()\n",
    "input = re.sub(SLOPE_REGEX, \".\", input)\n",
    "value = iterate(input, 0 + 1j, get_end_position(input), set())\n",
    "\n",
    "print(f\"Part 2: {value}\")\n",
    "# assert value == 2386"
   ]
  }
 ],
 "metadata": {
  "kernelspec": {
   "display_name": "Python 3",
   "language": "python",
   "name": "python3"
  },
  "language_info": {
   "codemirror_mode": {
    "name": "ipython",
    "version": 3
   },
   "file_extension": ".py",
   "mimetype": "text/x-python",
   "name": "python",
   "nbconvert_exporter": "python",
   "pygments_lexer": "ipython3",
   "version": "3.11.4"
  }
 },
 "nbformat": 4,
 "nbformat_minor": 2
}
