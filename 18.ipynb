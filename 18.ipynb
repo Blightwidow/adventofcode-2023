{
 "cells": [
  {
   "cell_type": "code",
   "execution_count": 122,
   "metadata": {},
   "outputs": [],
   "source": [
    "import re\n",
    "\n",
    "Instruction = tuple[str, int]\n",
    "Position = tuple[int, int]\n",
    "\n",
    "\n",
    "def parse(input_string: str) -> list[Instruction]:\n",
    "    output = []\n",
    "    for line in input_string.splitlines():\n",
    "        data = line.split(\" \")\n",
    "        output.append((data[0], int(data[1])))\n",
    "\n",
    "    return output\n",
    "\n",
    "\n",
    "def alt_parse(input_string: str):\n",
    "    output = []\n",
    "\n",
    "    def hex_to_dir(hex_str: str):\n",
    "        return {\n",
    "            \"0\": \"R\",\n",
    "            \"1\": \"D\",\n",
    "            \"2\": \"L\",\n",
    "            \"3\": \"U\",\n",
    "        }[hex_str]\n",
    "\n",
    "    for match in re.finditer(r\"\\(#(.+)\\)\", input_string):\n",
    "        data = match.group(1)\n",
    "\n",
    "        output.append((hex_to_dir(data[-1]), int(data[:-1], 16)))\n",
    "\n",
    "    return output"
   ]
  },
  {
   "cell_type": "code",
   "execution_count": 123,
   "metadata": {},
   "outputs": [],
   "source": [
    "def get_next_position(\n",
    "    current_position: tuple[int, int], direction: str, distance: int\n",
    ") -> tuple[int, int]:\n",
    "    x, y = current_position\n",
    "\n",
    "    if direction == \"R\":\n",
    "        return (x + distance, y)\n",
    "    elif direction == \"L\":\n",
    "        return (x - distance, y)\n",
    "    elif direction == \"U\":\n",
    "        return (x, y - distance)\n",
    "    elif direction == \"D\":\n",
    "        return (x, y + distance)\n",
    "    else:\n",
    "        raise ValueError(f\"Unknown direction {direction}\")\n",
    "\n",
    "\n",
    "def get_coordinates(instructions: list[Instruction]) -> (list[Position], int):\n",
    "    coordinates = [(0, 0)]\n",
    "    perimeter = 0\n",
    "\n",
    "    for instruction in instructions:\n",
    "        direction, distance = instruction\n",
    "        coordinates.append(get_next_position(coordinates[-1], direction, distance))\n",
    "        perimeter += distance\n",
    "\n",
    "    return (coordinates, perimeter)\n",
    "\n",
    "\n",
    "def get_area(coordinates: list[Position], perimeter: int):\n",
    "    area = 0\n",
    "    for i in range(1, len(coordinates)):\n",
    "        x1, y1 = coordinates[i - 1]\n",
    "        x2, y2 = coordinates[i]\n",
    "        area += (y1 + y2) * (x1 - x2)\n",
    "\n",
    "    area = (abs(area) + 2 + perimeter) // 2\n",
    "\n",
    "    return area"
   ]
  },
  {
   "cell_type": "code",
   "execution_count": 124,
   "metadata": {},
   "outputs": [],
   "source": [
    "test_input = \"\"\"\\\n",
    "R 6 (#70c710)\n",
    "D 5 (#0dc571)\n",
    "L 2 (#5713f0)\n",
    "D 2 (#d2c081)\n",
    "R 2 (#59c680)\n",
    "D 2 (#411b91)\n",
    "L 5 (#8ceee2)\n",
    "U 2 (#caa173)\n",
    "L 1 (#1b58a2)\n",
    "U 2 (#caa171)\n",
    "R 2 (#7807d2)\n",
    "U 3 (#a77fa3)\n",
    "L 2 (#015232)\n",
    "U 2 (#7a21e3)\"\"\"\n",
    "\n",
    "test_instructions = parse(test_input)\n",
    "coordinates, perimeter = get_coordinates(test_instructions)\n",
    "\n",
    "\n",
    "assert get_area(coordinates, perimeter) == 62"
   ]
  },
  {
   "cell_type": "code",
   "execution_count": 125,
   "metadata": {},
   "outputs": [
    {
     "name": "stdout",
     "output_type": "stream",
     "text": [
      "Part 1: 47675\n"
     ]
    }
   ],
   "source": [
    "instructions = parse(open(\"18.txt\").read())\n",
    "coordinates, perimeter = get_coordinates(instructions)\n",
    "\n",
    "value = get_area(coordinates, perimeter)\n",
    "\n",
    "print(f\"Part 1: {value}\")\n",
    "\n",
    "assert value == 47675"
   ]
  },
  {
   "cell_type": "code",
   "execution_count": 126,
   "metadata": {},
   "outputs": [],
   "source": [
    "test_instructions = alt_parse(test_input)\n",
    "coordinates, perimeter = get_coordinates(test_instructions)\n",
    "\n",
    "\n",
    "assert get_area(coordinates, perimeter) == 952408144115"
   ]
  },
  {
   "cell_type": "code",
   "execution_count": 127,
   "metadata": {},
   "outputs": [
    {
     "name": "stdout",
     "output_type": "stream",
     "text": [
      "Part 2: 122103860427465\n"
     ]
    }
   ],
   "source": [
    "instructions = alt_parse(open(\"18.txt\").read())\n",
    "coordinates, perimeter = get_coordinates(instructions)\n",
    "\n",
    "value = get_area(coordinates, perimeter)\n",
    "\n",
    "print(f\"Part 2: {value}\")\n",
    "\n",
    "assert value == 122103860427465"
   ]
  }
 ],
 "metadata": {
  "kernelspec": {
   "display_name": "Python 3",
   "language": "python",
   "name": "python3"
  },
  "language_info": {
   "codemirror_mode": {
    "name": "ipython",
    "version": 3
   },
   "file_extension": ".py",
   "mimetype": "text/x-python",
   "name": "python",
   "nbconvert_exporter": "python",
   "pygments_lexer": "ipython3",
   "version": "3.11.6"
  }
 },
 "nbformat": 4,
 "nbformat_minor": 2
}
