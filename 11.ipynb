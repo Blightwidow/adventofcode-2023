{
 "cells": [
  {
   "cell_type": "code",
   "execution_count": 53,
   "metadata": {},
   "outputs": [],
   "source": [
    "def get_shifted_points(\n",
    "    map: list[str], points: list[tuple[int, int]], void_coefficient: int = 2\n",
    ") -> list[str]:\n",
    "    indexes_col = []\n",
    "    indexes_row = []\n",
    "    for i in range(len(map)):\n",
    "        if \"#\" not in map[i]:\n",
    "            indexes_row.append(i)\n",
    "\n",
    "    for i in range(len(map[0])):\n",
    "        empty = True\n",
    "        for j in range(len(map)):\n",
    "            if map[j][i] == \"#\":\n",
    "                empty = False\n",
    "\n",
    "        if empty:\n",
    "            indexes_col.append(i)\n",
    "\n",
    "    next_points = points.copy()\n",
    "    for point_id, point in enumerate(points):\n",
    "        for i in indexes_col:\n",
    "            if point[1] > i:\n",
    "                next_points[point_id] = (\n",
    "                    next_points[point_id][0],\n",
    "                    next_points[point_id][1] + void_coefficient - 1,\n",
    "                )\n",
    "\n",
    "        for i in indexes_row:\n",
    "            if point[0] > i:\n",
    "                next_points[point_id] = (\n",
    "                    next_points[point_id][0] + void_coefficient - 1,\n",
    "                    next_points[point_id][1],\n",
    "                )\n",
    "\n",
    "    return next_points\n",
    "\n",
    "\n",
    "def get_distance(point_a: tuple[int, int], point_b: tuple[int, int]) -> int:\n",
    "    return abs(point_a[0] - point_b[0]) + abs(point_a[1] - point_b[1])\n",
    "\n",
    "\n",
    "def get_all_points(map: list[str]) -> list[tuple[int, int]]:\n",
    "    points = []\n",
    "    for i in range(len(map)):\n",
    "        for j in range(len(map[i])):\n",
    "            if map[i][j] == \"#\":\n",
    "                points.append((i, j))\n",
    "\n",
    "    return points"
   ]
  },
  {
   "cell_type": "code",
   "execution_count": 54,
   "metadata": {},
   "outputs": [
    {
     "name": "stdout",
     "output_type": "stream",
     "text": [
      "[(0, 4), (1, 9), (2, 0), (5, 8), (6, 1), (7, 12), (10, 9), (11, 0), (11, 5)]\n",
      "374.0\n"
     ]
    }
   ],
   "source": [
    "test_input = \"\"\"...#......\n",
    ".......#..\n",
    "#.........\n",
    "..........\n",
    "......#...\n",
    ".#........\n",
    ".........#\n",
    "..........\n",
    ".......#..\n",
    "#...#.....\"\"\"\n",
    "\n",
    "test_map = test_input.split(\"\\n\")\n",
    "points = get_shifted_points(test_map, get_all_points(test_map))\n",
    "total = 0\n",
    "\n",
    "\n",
    "for point_a in points:\n",
    "    for point_b in points:\n",
    "        total += get_distance(point_a, point_b)\n",
    "\n",
    "assert total / 2 == 374"
   ]
  },
  {
   "cell_type": "code",
   "execution_count": 56,
   "metadata": {},
   "outputs": [
    {
     "name": "stdout",
     "output_type": "stream",
     "text": [
      "10165598.0\n"
     ]
    }
   ],
   "source": [
    "map = open(\"11.txt\").read().split(\"\\n\")\n",
    "points = get_shifted_points(map, get_all_points(map))\n",
    "total = 0\n",
    "\n",
    "\n",
    "for point_a in points:\n",
    "    for point_b in points:\n",
    "        total += get_distance(point_a, point_b)\n",
    "\n",
    "print(total / 2)"
   ]
  },
  {
   "cell_type": "code",
   "execution_count": 59,
   "metadata": {},
   "outputs": [
    {
     "name": "stdout",
     "output_type": "stream",
     "text": [
      "8410.0\n"
     ]
    }
   ],
   "source": [
    "points = get_shifted_points(test_map, get_all_points(test_map), 100)\n",
    "total = 0\n",
    "\n",
    "\n",
    "for point_a in points:\n",
    "    for point_b in points:\n",
    "        total += get_distance(point_a, point_b)\n",
    "\n",
    "assert total / 2 == 8410"
   ]
  },
  {
   "cell_type": "code",
   "execution_count": 34,
   "metadata": {},
   "outputs": [
    {
     "ename": "KeyboardInterrupt",
     "evalue": "",
     "output_type": "error",
     "traceback": [
      "\u001b[0;31m---------------------------------------------------------------------------\u001b[0m",
      "\u001b[0;31mKeyboardInterrupt\u001b[0m                         Traceback (most recent call last)",
      "Cell \u001b[0;32mIn[34], line 1\u001b[0m\n\u001b[0;32m----> 1\u001b[0m \u001b[38;5;28mmap\u001b[39m \u001b[38;5;241m=\u001b[39m \u001b[43mget_exanded_map\u001b[49m\u001b[43m(\u001b[49m\u001b[38;5;28;43mopen\u001b[39;49m\u001b[43m(\u001b[49m\u001b[38;5;124;43m\"\u001b[39;49m\u001b[38;5;124;43m11.txt\u001b[39;49m\u001b[38;5;124;43m\"\u001b[39;49m\u001b[43m)\u001b[49m\u001b[38;5;241;43m.\u001b[39;49m\u001b[43mread\u001b[49m\u001b[43m(\u001b[49m\u001b[43m)\u001b[49m\u001b[38;5;241;43m.\u001b[39;49m\u001b[43msplit\u001b[49m\u001b[43m(\u001b[49m\u001b[38;5;124;43m\"\u001b[39;49m\u001b[38;5;130;43;01m\\n\u001b[39;49;00m\u001b[38;5;124;43m\"\u001b[39;49m\u001b[43m)\u001b[49m\u001b[43m,\u001b[49m\u001b[43m \u001b[49m\u001b[38;5;241;43m10000\u001b[39;49m\u001b[43m)\u001b[49m\n\u001b[1;32m      2\u001b[0m points \u001b[38;5;241m=\u001b[39m get_all_points(\u001b[38;5;28mmap\u001b[39m)\n\u001b[1;32m      3\u001b[0m total \u001b[38;5;241m=\u001b[39m \u001b[38;5;241m0\u001b[39m\n",
      "Cell \u001b[0;32mIn[28], line 23\u001b[0m, in \u001b[0;36mget_exanded_map\u001b[0;34m(map, void_coefficient)\u001b[0m\n\u001b[1;32m     21\u001b[0m \u001b[38;5;28;01mfor\u001b[39;00m delta, i \u001b[38;5;129;01min\u001b[39;00m \u001b[38;5;28menumerate\u001b[39m(indexes):\n\u001b[1;32m     22\u001b[0m     \u001b[38;5;28;01mfor\u001b[39;00m j \u001b[38;5;129;01min\u001b[39;00m \u001b[38;5;28mrange\u001b[39m(\u001b[38;5;28mlen\u001b[39m(next_map)):\n\u001b[0;32m---> 23\u001b[0m         next_map[j] \u001b[38;5;241m=\u001b[39m (\n\u001b[1;32m     24\u001b[0m             next_map[j][: i \u001b[38;5;241m+\u001b[39m delta \u001b[38;5;241m*\u001b[39m (void_coefficient \u001b[38;5;241m-\u001b[39m \u001b[38;5;241m1\u001b[39m)]\n\u001b[1;32m     25\u001b[0m             \u001b[38;5;241m+\u001b[39m \u001b[38;5;124m\"\u001b[39m\u001b[38;5;124m.\u001b[39m\u001b[38;5;124m\"\u001b[39m \u001b[38;5;241m*\u001b[39m (void_coefficient \u001b[38;5;241m-\u001b[39m \u001b[38;5;241m1\u001b[39m)\n\u001b[1;32m     26\u001b[0m             \u001b[38;5;241m+\u001b[39m next_map[j][delta \u001b[38;5;241m*\u001b[39m (void_coefficient \u001b[38;5;241m-\u001b[39m \u001b[38;5;241m1\u001b[39m) \u001b[38;5;241m+\u001b[39m i :]\n\u001b[1;32m     27\u001b[0m         )\n\u001b[1;32m     29\u001b[0m \u001b[38;5;28;01mreturn\u001b[39;00m next_map\n",
      "\u001b[0;31mKeyboardInterrupt\u001b[0m: "
     ]
    }
   ],
   "source": [
    "map = open(\"11.txt\").read().split(\"\\n\")\n",
    "points = get_shifted_points(map, get_all_points(map), 1000000)\n",
    "total = 0\n",
    "\n",
    "\n",
    "for point_a in points:\n",
    "    for point_b in points:\n",
    "        total += get_distance(point_a, point_b)\n",
    "\n",
    "print(total / 2)"
   ]
  }
 ],
 "metadata": {
  "kernelspec": {
   "display_name": "Python 3",
   "language": "python",
   "name": "python3"
  },
  "language_info": {
   "codemirror_mode": {
    "name": "ipython",
    "version": 3
   },
   "file_extension": ".py",
   "mimetype": "text/x-python",
   "name": "python",
   "nbconvert_exporter": "python",
   "pygments_lexer": "ipython3",
   "version": "3.11.6"
  }
 },
 "nbformat": 4,
 "nbformat_minor": 2
}
