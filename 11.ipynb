{
 "cells": [
  {
   "cell_type": "code",
   "execution_count": 60,
   "metadata": {},
   "outputs": [],
   "source": [
    "def get_shifted_points(\n",
    "    map: list[str], points: list[tuple[int, int]], void_coefficient: int = 2\n",
    ") -> list[str]:\n",
    "    indexes_col = []\n",
    "    indexes_row = []\n",
    "    for i in range(len(map)):\n",
    "        if \"#\" not in map[i]:\n",
    "            indexes_row.append(i)\n",
    "\n",
    "    for i in range(len(map[0])):\n",
    "        empty = True\n",
    "        for j in range(len(map)):\n",
    "            if map[j][i] == \"#\":\n",
    "                empty = False\n",
    "\n",
    "        if empty:\n",
    "            indexes_col.append(i)\n",
    "\n",
    "    next_points = points.copy()\n",
    "    for point_id, point in enumerate(points):\n",
    "        for i in indexes_col:\n",
    "            if point[1] > i:\n",
    "                next_points[point_id] = (\n",
    "                    next_points[point_id][0],\n",
    "                    next_points[point_id][1] + void_coefficient - 1,\n",
    "                )\n",
    "\n",
    "        for i in indexes_row:\n",
    "            if point[0] > i:\n",
    "                next_points[point_id] = (\n",
    "                    next_points[point_id][0] + void_coefficient - 1,\n",
    "                    next_points[point_id][1],\n",
    "                )\n",
    "\n",
    "    return next_points\n",
    "\n",
    "\n",
    "def get_distance(point_a: tuple[int, int], point_b: tuple[int, int]) -> int:\n",
    "    return abs(point_a[0] - point_b[0]) + abs(point_a[1] - point_b[1])\n",
    "\n",
    "\n",
    "def get_all_points(map: list[str]) -> list[tuple[int, int]]:\n",
    "    points = []\n",
    "    for i in range(len(map)):\n",
    "        for j in range(len(map[i])):\n",
    "            if map[i][j] == \"#\":\n",
    "                points.append((i, j))\n",
    "\n",
    "    return points"
   ]
  },
  {
   "cell_type": "code",
   "execution_count": 61,
   "metadata": {},
   "outputs": [],
   "source": [
    "test_input = \"\"\"...#......\n",
    ".......#..\n",
    "#.........\n",
    "..........\n",
    "......#...\n",
    ".#........\n",
    ".........#\n",
    "..........\n",
    ".......#..\n",
    "#...#.....\"\"\"\n",
    "\n",
    "test_map = test_input.split(\"\\n\")\n",
    "points = get_shifted_points(test_map, get_all_points(test_map))\n",
    "total = 0\n",
    "\n",
    "\n",
    "for point_a in points:\n",
    "    for point_b in points:\n",
    "        total += get_distance(point_a, point_b)\n",
    "\n",
    "assert total / 2 == 374"
   ]
  },
  {
   "cell_type": "code",
   "execution_count": 62,
   "metadata": {},
   "outputs": [
    {
     "name": "stdout",
     "output_type": "stream",
     "text": [
      "10165598.0\n"
     ]
    }
   ],
   "source": [
    "map = open(\"11.txt\").read().split(\"\\n\")\n",
    "points = get_shifted_points(map, get_all_points(map))\n",
    "total = 0\n",
    "\n",
    "\n",
    "for point_a in points:\n",
    "    for point_b in points:\n",
    "        total += get_distance(point_a, point_b)\n",
    "\n",
    "print(total / 2)"
   ]
  },
  {
   "cell_type": "code",
   "execution_count": 63,
   "metadata": {},
   "outputs": [],
   "source": [
    "points = get_shifted_points(test_map, get_all_points(test_map), 100)\n",
    "total = 0\n",
    "\n",
    "\n",
    "for point_a in points:\n",
    "    for point_b in points:\n",
    "        total += get_distance(point_a, point_b)\n",
    "\n",
    "assert total / 2 == 8410"
   ]
  },
  {
   "cell_type": "code",
   "execution_count": 64,
   "metadata": {},
   "outputs": [
    {
     "name": "stdout",
     "output_type": "stream",
     "text": [
      "678728808158.0\n"
     ]
    }
   ],
   "source": [
    "map = open(\"11.txt\").read().split(\"\\n\")\n",
    "points = get_shifted_points(map, get_all_points(map), 1000000)\n",
    "total = 0\n",
    "\n",
    "\n",
    "for point_a in points:\n",
    "    for point_b in points:\n",
    "        total += get_distance(point_a, point_b)\n",
    "\n",
    "print(total / 2)"
   ]
  }
 ],
 "metadata": {
  "kernelspec": {
   "display_name": "Python 3",
   "language": "python",
   "name": "python3"
  },
  "language_info": {
   "codemirror_mode": {
    "name": "ipython",
    "version": 3
   },
   "file_extension": ".py",
   "mimetype": "text/x-python",
   "name": "python",
   "nbconvert_exporter": "python",
   "pygments_lexer": "ipython3",
   "version": "3.11.6"
  }
 },
 "nbformat": 4,
 "nbformat_minor": 2
}
