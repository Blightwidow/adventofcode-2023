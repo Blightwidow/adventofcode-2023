{
 "cells": [
  {
   "cell_type": "code",
   "execution_count": 387,
   "metadata": {},
   "outputs": [],
   "source": [
    "import re\n",
    "\n",
    "\n",
    "def parse(text):\n",
    "    sections = text.split(\"\\n\\n\")\n",
    "    lines = re.findall(r\"^(\\w+) = \\((\\w+), (\\w+)\", sections[1], re.MULTILINE)\n",
    "\n",
    "    links = dict()\n",
    "    for line in lines:\n",
    "        links[line[0]] = (line[1], line[2])\n",
    "\n",
    "    return (sections[0], links)"
   ]
  },
  {
   "cell_type": "code",
   "execution_count": 388,
   "metadata": {},
   "outputs": [],
   "source": [
    "input_string = open(\"08.txt\").read()\n",
    "steps, nodes = parse(input_string)"
   ]
  },
  {
   "cell_type": "code",
   "execution_count": 389,
   "metadata": {},
   "outputs": [],
   "source": [
    "import re, itertools\n",
    "\n",
    "STARTING_NODE_REGEX = re.compile(r\"A$\")\n",
    "ENDING_NODE_REGEX = re.compile(r\"Z$\")\n",
    "\n",
    "\n",
    "def lookup(map_dict: dict, direction_string: str, node_id: str, ending_nodes_ids: list[str]):\n",
    "    current_node = node_id\n",
    "    steps = 0\n",
    "    for direction in itertools.cycle(direction_string):\n",
    "        current_node = map_dict[current_node][0 if direction == \"L\" else 1]\n",
    "        steps += 1\n",
    "        if current_node in ending_nodes_ids:\n",
    "            return steps\n",
    "\n",
    "\n",
    "def get_starting_nodes(map_dict: dict):\n",
    "    return [node for node in map_dict.keys() if STARTING_NODE_REGEX.search(node)]\n",
    "\n",
    "\n",
    "def get_ending_nodes(map_dict: dict):\n",
    "    return [node for node in map_dict.keys() if ENDING_NODE_REGEX.search(node)]"
   ]
  },
  {
   "cell_type": "code",
   "execution_count": 390,
   "metadata": {},
   "outputs": [],
   "source": [
    "import math\n",
    "\n",
    "test_input = \"\"\"LLR\n",
    "\n",
    "AAA = (BBB, BBB)\n",
    "BBB = (AAA, ZZZ)\n",
    "ZZZ = (ZZZ, ZZZ)\"\"\"\n",
    "\n",
    "test_steps, test_nodes = parse(test_input)\n",
    "\n",
    "assert (\n",
    "    lookup(\n",
    "        map_dict=test_nodes,\n",
    "        direction_string=test_steps,\n",
    "        node_id=\"AAA\",\n",
    "        ending_nodes_ids=[\"ZZZ\"],\n",
    "    )\n",
    "    == 6\n",
    ")"
   ]
  },
  {
   "cell_type": "code",
   "execution_count": 391,
   "metadata": {},
   "outputs": [
    {
     "name": "stdout",
     "output_type": "stream",
     "text": [
      "12643\n"
     ]
    }
   ],
   "source": [
    "print(\n",
    "    lookup(\n",
    "        map_dict=nodes,\n",
    "        direction_string=steps,\n",
    "        node_id=\"AAA\",\n",
    "        ending_nodes_ids=[\"ZZZ\"],\n",
    "    )\n",
    ")"
   ]
  },
  {
   "cell_type": "code",
   "execution_count": 392,
   "metadata": {},
   "outputs": [],
   "source": [
    "import math\n",
    "\n",
    "test_input = \"\"\"LR\n",
    "\n",
    "11A = (11B, XXX)\n",
    "11B = (XXX, 11Z)\n",
    "11Z = (11B, XXX)\n",
    "22A = (22B, XXX)\n",
    "22B = (22C, 22C)\n",
    "22C = (22Z, 22Z)\n",
    "22Z = (22B, 22B)\n",
    "XXX = (XXX, XXX)\"\"\"\n",
    "\n",
    "test_steps, test_nodes = parse(test_input)\n",
    "\n",
    "assert (\n",
    "    math.lcm(\n",
    "        *[\n",
    "            lookup(\n",
    "                map_dict=test_nodes,\n",
    "                node_id=node,\n",
    "                direction_string=test_steps,\n",
    "                ending_nodes_ids=get_ending_nodes(test_nodes),\n",
    "            )\n",
    "            for node in get_starting_nodes(test_nodes)\n",
    "        ]\n",
    "    )\n",
    "    == 6\n",
    ")"
   ]
  },
  {
   "cell_type": "code",
   "execution_count": 393,
   "metadata": {},
   "outputs": [
    {
     "name": "stdout",
     "output_type": "stream",
     "text": [
      "13133452426987\n"
     ]
    }
   ],
   "source": [
    "print(math.lcm(\n",
    "        *[\n",
    "            lookup(\n",
    "                map_dict=nodes,\n",
    "                node_id=node,\n",
    "                direction_string=steps,\n",
    "                ending_nodes_ids=get_ending_nodes(nodes),\n",
    "            )\n",
    "            for node in get_starting_nodes(nodes)\n",
    "        ]\n",
    "    ))"
   ]
  }
 ],
 "metadata": {
  "kernelspec": {
   "display_name": "Python 3",
   "language": "python",
   "name": "python3"
  },
  "language_info": {
   "codemirror_mode": {
    "name": "ipython",
    "version": 3
   },
   "file_extension": ".py",
   "mimetype": "text/x-python",
   "name": "python",
   "nbconvert_exporter": "python",
   "pygments_lexer": "ipython3",
   "version": "3.11.4"
  }
 },
 "nbformat": 4,
 "nbformat_minor": 2
}
