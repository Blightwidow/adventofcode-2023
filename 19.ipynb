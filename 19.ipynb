{
 "cells": [
  {
   "cell_type": "code",
   "execution_count": 718,
   "metadata": {},
   "outputs": [],
   "source": [
    "import re\n",
    "\n",
    "Step = tuple[str | None, str | None, str | None, str]\n",
    "Workflow = list[Step]\n",
    "Part = dict[str, int]\n",
    "\n",
    "\n",
    "def parse_workflow(worfklow_string: str) -> tuple:\n",
    "    steps = []\n",
    "    for value in worfklow_string.split(\",\"):\n",
    "        matches = re.match(r\"(?:([a-zA-Z]+)([\\>\\<])(\\d+):)?([a-zA-Z]+)$\", value)\n",
    "        steps.append(matches.groups())\n",
    "\n",
    "    return steps\n",
    "\n",
    "\n",
    "def parse(input_string: str) -> tuple[dict[Workflow], list[Part]]:\n",
    "    sections = input_string.split(\"\\n\\n\")\n",
    "    worflows = {}\n",
    "    for line in sections[0].splitlines():\n",
    "        matches = re.match(r\"(\\w+)\\{(.+)\\}\", line)\n",
    "        worflows[matches.group(1)] = parse_workflow(matches.group(2))\n",
    "\n",
    "    parts = []\n",
    "    for line in sections[1].splitlines():\n",
    "        part = {}\n",
    "        for value in re.finditer(r\"(\\w)=(\\d+)\", line):\n",
    "            part[value.group(1)] = int(value.group(2))\n",
    "\n",
    "        parts.append(part)\n",
    "\n",
    "    return (worflows, parts)"
   ]
  },
  {
   "cell_type": "code",
   "execution_count": 719,
   "metadata": {},
   "outputs": [],
   "source": [
    "import math\n",
    "\n",
    "DEFAULT_RANGES = {\n",
    "    \"x\": (1, 4000),\n",
    "    \"m\": (1, 4000),\n",
    "    \"a\": (1, 4000),\n",
    "    \"s\": (1, 4000),\n",
    "}\n",
    "\n",
    "\n",
    "def handle_step(\n",
    "    step: Step,\n",
    "    ranges: dict[tuple[int, int]],\n",
    "):\n",
    "    id, operator, value, next_workflow = step\n",
    "    if id is None:\n",
    "        return (ranges, None, next_workflow)\n",
    "\n",
    "    if operator == \"<\":\n",
    "        pass_ranges = ranges.copy()\n",
    "        pass_ranges[id] = (ranges[id][0], min(int(value) - 1, ranges[id][1]))\n",
    "        fail_ranges = ranges.copy()\n",
    "        fail_ranges[id] = (max(int(value), ranges[id][0]), ranges[id][1])\n",
    "        return (pass_ranges, fail_ranges, next_workflow)\n",
    "\n",
    "    elif operator == \">\":\n",
    "        pass_ranges = ranges.copy()\n",
    "        pass_ranges[id] = (max(int(value) + 1, ranges[id][0]), ranges[id][1])\n",
    "        fail_ranges = ranges.copy()\n",
    "        fail_ranges[id] = (ranges[id][0], min(int(value), ranges[id][1]))\n",
    "        return (pass_ranges, fail_ranges, next_workflow)\n",
    "\n",
    "    raise Exception(\"Unknown operator\")\n",
    "\n",
    "\n",
    "def iterate(\n",
    "    workflows: list[Workflow],\n",
    "    current_workflow: str = \"in\",\n",
    "    ranges: dict[tuple[int, int]] = DEFAULT_RANGES,\n",
    "):\n",
    "    if current_workflow == \"A\":\n",
    "        return [ranges]\n",
    "\n",
    "    if current_workflow == \"R\":\n",
    "        return []\n",
    "\n",
    "    steps = workflows[current_workflow]\n",
    "    results = []\n",
    "    for step in steps:\n",
    "        next_ranges, fail_ranges, next_workflow = handle_step(step, ranges)\n",
    "        results += iterate(\n",
    "            workflows=workflows,\n",
    "            current_workflow=next_workflow,\n",
    "            ranges=next_ranges,\n",
    "        )\n",
    "        if fail_ranges:\n",
    "            ranges = fail_ranges\n",
    "\n",
    "    return results\n",
    "\n",
    "\n",
    "def is_part_in_range(part: Part, range: tuple[tuple]) -> bool:\n",
    "    for key, value in part.items():\n",
    "        if value < range[key][0] or value > range[key][1]:\n",
    "            return False\n",
    "\n",
    "    return True\n",
    "\n",
    "\n",
    "def get_matching_ranges(part: Part, range_list: list[tuple[tuple]]) -> bool:\n",
    "    output = []\n",
    "    for range in range_list:\n",
    "        if is_part_in_range(part, range):\n",
    "            output.append(range)\n",
    "\n",
    "    return output\n",
    "\n",
    "\n",
    "def get_part_value(part: Part, key: str) -> int:\n",
    "    return sum(part.values())\n",
    "\n",
    "\n",
    "def get_possible_values_count(range_list: list[dict[tuple[int, int]]]) -> int:\n",
    "    return sum(\n",
    "        math.prod([value[1] - value[0] + 1 for value in range.values()])\n",
    "        for range in range_list\n",
    "    )"
   ]
  },
  {
   "cell_type": "code",
   "execution_count": 720,
   "metadata": {},
   "outputs": [],
   "source": [
    "test_input = \"\"\"\\\n",
    "px{a<2006:qkq,m>2090:A,rfg}\n",
    "pv{a>1716:R,A}\n",
    "lnx{m>1548:A,A}\n",
    "rfg{s<537:gd,x>2440:R,A}\n",
    "qs{s>3448:A,lnx}\n",
    "qkq{x<1416:A,crn}\n",
    "crn{x>2662:A,R}\n",
    "in{s<1351:px,qqz}\n",
    "qqz{s>2770:qs,m<1801:hdj,R}\n",
    "gd{a>3333:R,R}\n",
    "hdj{m>838:A,pv}\n",
    "\n",
    "{x=787,m=2655,a=1222,s=2876}\n",
    "{x=1679,m=44,a=2067,s=496}\n",
    "{x=2036,m=264,a=79,s=2244}\n",
    "{x=2461,m=1339,a=466,s=291}\n",
    "{x=2127,m=1623,a=2188,s=1013}\"\"\""
   ]
  },
  {
   "cell_type": "code",
   "execution_count": 721,
   "metadata": {},
   "outputs": [],
   "source": [
    "workflows, parts = parse(test_input)\n",
    "range_list = iterate(workflows)\n",
    "\n",
    "assert (\n",
    "    sum(sum(part.values()) for part in parts if get_matching_ranges(part, range_list))\n",
    "    == 19114\n",
    ")"
   ]
  },
  {
   "cell_type": "code",
   "execution_count": 722,
   "metadata": {},
   "outputs": [
    {
     "name": "stdout",
     "output_type": "stream",
     "text": [
      "Part 1: 352052\n"
     ]
    }
   ],
   "source": [
    "workflows, parts = parse(open(\"19.txt\").read())\n",
    "range_list = iterate(workflows)\n",
    "\n",
    "value = sum(\n",
    "    sum(part.values()) for part in parts if get_matching_ranges(part, range_list)\n",
    ")\n",
    "\n",
    "\n",
    "print(f\"Part 1: {value}\")\n",
    "assert value == 352052"
   ]
  },
  {
   "cell_type": "code",
   "execution_count": 723,
   "metadata": {},
   "outputs": [
    {
     "name": "stdout",
     "output_type": "stream",
     "text": [
      "167409079868000\n"
     ]
    }
   ],
   "source": [
    "workflows, parts = parse(test_input)\n",
    "range_list = iterate(workflows)\n",
    "\n",
    "print(get_possible_values_count(range_list))\n",
    "assert get_possible_values_count(range_list) == 167409079868000"
   ]
  },
  {
   "cell_type": "code",
   "execution_count": 724,
   "metadata": {},
   "outputs": [
    {
     "name": "stdout",
     "output_type": "stream",
     "text": [
      "Part 2: 116606738659695\n"
     ]
    }
   ],
   "source": [
    "workflows, parts = parse(open(\"19.txt\").read())\n",
    "range_list = iterate(workflows)\n",
    "value = get_possible_values_count(range_list)\n",
    "\n",
    "print(f\"Part 2: {value}\")\n",
    "assert value == 116606738659695"
   ]
  }
 ],
 "metadata": {
  "kernelspec": {
   "display_name": "Python 3",
   "language": "python",
   "name": "python3"
  },
  "language_info": {
   "codemirror_mode": {
    "name": "ipython",
    "version": 3
   },
   "file_extension": ".py",
   "mimetype": "text/x-python",
   "name": "python",
   "nbconvert_exporter": "python",
   "pygments_lexer": "ipython3",
   "version": "3.11.4"
  }
 },
 "nbformat": 4,
 "nbformat_minor": 2
}
