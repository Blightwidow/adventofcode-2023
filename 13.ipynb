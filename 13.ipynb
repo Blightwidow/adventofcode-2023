{
 "cells": [
  {
   "cell_type": "code",
   "execution_count": 369,
   "metadata": {},
   "outputs": [],
   "source": [
    "def get_horizontal_symmetries(map: list[str]) -> list[int]:\n",
    "    output = []\n",
    "    for i in range(len(map) - 1):\n",
    "        valid = True\n",
    "        x = i\n",
    "        y = x + 1\n",
    "        while y < len(map) and x >= 0:\n",
    "            if map[x] != map[y]:\n",
    "                valid = False\n",
    "                break\n",
    "            x -= 1\n",
    "            y += 1\n",
    "\n",
    "        if valid:\n",
    "            output.append(100 * (i + 1))\n",
    "\n",
    "    return output\n",
    "\n",
    "\n",
    "def get_vertical_symmetries(map: list[str]) -> list[int]:\n",
    "    new_map = []\n",
    "    matrix = [list(r) for r in map]\n",
    "\n",
    "    for x in range(len(map[0])):\n",
    "        new_map.append([])\n",
    "\n",
    "    for x in range(len(map[0])):\n",
    "        for y in range(len(map)):\n",
    "            new_map[x] = new_map[x] + [matrix[y][x]]\n",
    "\n",
    "    return [\n",
    "        value / 100\n",
    "        for value in get_horizontal_symmetries([\"\".join(line) for line in new_map])\n",
    "    ]\n",
    "\n",
    "\n",
    "def get_permutations_value(map_string: str, targets: [int]) -> int:\n",
    "    for i in range(len((map_string))):\n",
    "        if map_string[i] == \"\\n\":\n",
    "            continue\n",
    "\n",
    "        next_map = (\n",
    "            map_string[:i]\n",
    "            + (\"#\" if map_string[i] == \".\" else \".\")\n",
    "            + map_string[i + 1 :]\n",
    "        )\n",
    "\n",
    "        horizontales = get_horizontal_symmetries(next_map.splitlines())\n",
    "        verticales = get_vertical_symmetries(next_map.splitlines())\n",
    "        for value in horizontales + verticales:\n",
    "            if value not in targets:\n",
    "                return value\n",
    "\n",
    "    print(map_string)\n",
    "\n",
    "    raise Exception(\"No valid permutation found\")"
   ]
  },
  {
   "cell_type": "code",
   "execution_count": 370,
   "metadata": {},
   "outputs": [],
   "source": [
    "test_input = \"\"\"#...##..#\n",
    "#....#..#\n",
    "..##..###\n",
    "#####.##.\n",
    "#####.##.\n",
    "..##..###\n",
    "#....#..#\"\"\"\n",
    "\n",
    "assert get_horizontal_symmetries(test_input.splitlines()) == [400]"
   ]
  },
  {
   "cell_type": "code",
   "execution_count": 371,
   "metadata": {},
   "outputs": [],
   "source": [
    "test_input = \"\"\"#.##..##.\n",
    "..#.##.#.\n",
    "##......#\n",
    "##......#\n",
    "..#.##.#.\n",
    "..##..##.\n",
    "#.#.##.#.\"\"\"\n",
    "\n",
    "assert get_vertical_symmetries(test_input.splitlines()) == [5]"
   ]
  },
  {
   "cell_type": "code",
   "execution_count": 382,
   "metadata": {},
   "outputs": [
    {
     "name": "stdout",
     "output_type": "stream",
     "text": [
      "[2.0]\n"
     ]
    },
    {
     "ename": "TypeError",
     "evalue": "unsupported operand type(s) for +=: 'float' and 'list'",
     "output_type": "error",
     "traceback": [
      "\u001b[0;31m---------------------------------------------------------------------------\u001b[0m",
      "\u001b[0;31mTypeError\u001b[0m                                 Traceback (most recent call last)",
      "Cell \u001b[0;32mIn[382], line 12\u001b[0m\n\u001b[1;32m      7\u001b[0m \u001b[38;5;28;01mfor\u001b[39;00m val \u001b[38;5;129;01min\u001b[39;00m [\n\u001b[1;32m      8\u001b[0m     get_horizontal_symmetries(i\u001b[38;5;241m.\u001b[39msplitlines()) \u001b[38;5;241m+\u001b[39m get_vertical_symmetries(i\u001b[38;5;241m.\u001b[39msplitlines())\n\u001b[1;32m      9\u001b[0m     \u001b[38;5;28;01mfor\u001b[39;00m i \u001b[38;5;129;01min\u001b[39;00m inputs\n\u001b[1;32m     10\u001b[0m ]:\n\u001b[1;32m     11\u001b[0m     \u001b[38;5;28mprint\u001b[39m(val)\n\u001b[0;32m---> 12\u001b[0m     \u001b[43mvalue\u001b[49m\u001b[43m \u001b[49m\u001b[38;5;241;43m+\u001b[39;49m\u001b[38;5;241;43m=\u001b[39;49m\u001b[43m \u001b[49m\u001b[43mval\u001b[49m\n\u001b[1;32m     14\u001b[0m \u001b[38;5;28mprint\u001b[39m(\u001b[38;5;28msum\u001b[39m())\n\u001b[1;32m     16\u001b[0m \u001b[38;5;28mprint\u001b[39m(value)\n",
      "\u001b[0;31mTypeError\u001b[0m: unsupported operand type(s) for +=: 'float' and 'list'"
     ]
    }
   ],
   "source": [
    "inputs = open(\"13.txt\").read().split(\"\\n\\n\")\n",
    "value = sum(\n",
    "    (\n",
    "        get_horizontal_symmetries(i.splitlines())\n",
    "        + get_vertical_symmetries(i.splitlines())\n",
    "    )[0]\n",
    "    for i in inputs\n",
    ")\n",
    "\n",
    "print(value)\n",
    "\n",
    "assert value == 27505"
   ]
  },
  {
   "cell_type": "code",
   "execution_count": null,
   "metadata": {},
   "outputs": [],
   "source": [
    "test_input = \"\"\"#...##..#\n",
    "#....#..#\n",
    "..##..###\n",
    "#####.##.\n",
    "#####.##.\n",
    "..##..###\n",
    "#....#..#\"\"\"\n",
    "\n",
    "\n",
    "original = get_horizontal_symmetries(test_input.splitlines())\n",
    "\n",
    "assert get_permutations_value(test_input, original) == 100"
   ]
  },
  {
   "cell_type": "code",
   "execution_count": null,
   "metadata": {},
   "outputs": [],
   "source": [
    "test_input = \"\"\"#.##..##.\n",
    "..#.##.#.\n",
    "##......#\n",
    "##......#\n",
    "..#.##.#.\n",
    "..##..##.\n",
    "#.#.##.#.\"\"\"\n",
    "\n",
    "original = get_vertical_symmetries(test_input.splitlines())\n",
    "\n",
    "assert get_permutations_value(test_input, original) == 300"
   ]
  },
  {
   "cell_type": "code",
   "execution_count": null,
   "metadata": {},
   "outputs": [
    {
     "name": "stdout",
     "output_type": "stream",
     "text": [
      "##....##.#.\n",
      "##.##.#..#.\n",
      "..####....#\n",
      "#######..##\n",
      "##..#......\n",
      "...##......\n",
      "###....##..\n",
      "..#.#..##..\n",
      "...#.#....#\n",
      "..##.......\n",
      "..##.#.##.#\n",
      "##...##..##\n",
      "######.##.#\n",
      "###...#..#.\n",
      "...###....#\n",
      "..##.......\n",
      "###.##....#\n"
     ]
    },
    {
     "ename": "Exception",
     "evalue": "No valid permutation found",
     "output_type": "error",
     "traceback": [
      "\u001b[0;31m---------------------------------------------------------------------------\u001b[0m",
      "\u001b[0;31mException\u001b[0m                                 Traceback (most recent call last)",
      "Cell \u001b[0;32mIn[364], line 2\u001b[0m\n\u001b[1;32m      1\u001b[0m inputs \u001b[38;5;241m=\u001b[39m \u001b[38;5;28mopen\u001b[39m(\u001b[38;5;124m\"\u001b[39m\u001b[38;5;124m13.txt\u001b[39m\u001b[38;5;124m\"\u001b[39m)\u001b[38;5;241m.\u001b[39mread()\u001b[38;5;241m.\u001b[39msplit(\u001b[38;5;124m\"\u001b[39m\u001b[38;5;130;01m\\n\u001b[39;00m\u001b[38;5;130;01m\\n\u001b[39;00m\u001b[38;5;124m\"\u001b[39m)\n\u001b[0;32m----> 2\u001b[0m value \u001b[38;5;241m=\u001b[39m \u001b[38;5;28;43msum\u001b[39;49m\u001b[43m(\u001b[49m\n\u001b[1;32m      3\u001b[0m \u001b[43m    \u001b[49m\u001b[43mget_permutations_value\u001b[49m\u001b[43m(\u001b[49m\n\u001b[1;32m      4\u001b[0m \u001b[43m        \u001b[49m\u001b[43mi\u001b[49m\u001b[43m,\u001b[49m\n\u001b[1;32m      5\u001b[0m \u001b[43m        \u001b[49m\u001b[43mget_horizontal_symmetry\u001b[49m\u001b[43m(\u001b[49m\u001b[43mi\u001b[49m\u001b[38;5;241;43m.\u001b[39;49m\u001b[43msplitlines\u001b[49m\u001b[43m(\u001b[49m\u001b[43m)\u001b[49m\u001b[43m)\u001b[49m\u001b[43m \u001b[49m\u001b[38;5;241;43m+\u001b[39;49m\u001b[43m \u001b[49m\u001b[43mget_vertical_symmetry\u001b[49m\u001b[43m(\u001b[49m\u001b[43mi\u001b[49m\u001b[38;5;241;43m.\u001b[39;49m\u001b[43msplitlines\u001b[49m\u001b[43m(\u001b[49m\u001b[43m)\u001b[49m\u001b[43m)\u001b[49m\u001b[43m,\u001b[49m\n\u001b[1;32m      6\u001b[0m \u001b[43m    \u001b[49m\u001b[43m)\u001b[49m\n\u001b[1;32m      7\u001b[0m \u001b[43m    \u001b[49m\u001b[38;5;28;43;01mfor\u001b[39;49;00m\u001b[43m \u001b[49m\u001b[43mi\u001b[49m\u001b[43m \u001b[49m\u001b[38;5;129;43;01min\u001b[39;49;00m\u001b[43m \u001b[49m\u001b[43minputs\u001b[49m\n\u001b[1;32m      8\u001b[0m \u001b[43m)\u001b[49m\n\u001b[1;32m     10\u001b[0m \u001b[38;5;28mprint\u001b[39m(value)\n\u001b[1;32m     12\u001b[0m \u001b[38;5;28;01massert\u001b[39;00m value \u001b[38;5;241m>\u001b[39m \u001b[38;5;241m15104\u001b[39m\n",
      "Cell \u001b[0;32mIn[364], line 3\u001b[0m, in \u001b[0;36m<genexpr>\u001b[0;34m(.0)\u001b[0m\n\u001b[1;32m      1\u001b[0m inputs \u001b[38;5;241m=\u001b[39m \u001b[38;5;28mopen\u001b[39m(\u001b[38;5;124m\"\u001b[39m\u001b[38;5;124m13.txt\u001b[39m\u001b[38;5;124m\"\u001b[39m)\u001b[38;5;241m.\u001b[39mread()\u001b[38;5;241m.\u001b[39msplit(\u001b[38;5;124m\"\u001b[39m\u001b[38;5;130;01m\\n\u001b[39;00m\u001b[38;5;130;01m\\n\u001b[39;00m\u001b[38;5;124m\"\u001b[39m)\n\u001b[1;32m      2\u001b[0m value \u001b[38;5;241m=\u001b[39m \u001b[38;5;28msum\u001b[39m(\n\u001b[0;32m----> 3\u001b[0m     \u001b[43mget_permutations_value\u001b[49m\u001b[43m(\u001b[49m\n\u001b[1;32m      4\u001b[0m \u001b[43m        \u001b[49m\u001b[43mi\u001b[49m\u001b[43m,\u001b[49m\n\u001b[1;32m      5\u001b[0m \u001b[43m        \u001b[49m\u001b[43mget_horizontal_symmetry\u001b[49m\u001b[43m(\u001b[49m\u001b[43mi\u001b[49m\u001b[38;5;241;43m.\u001b[39;49m\u001b[43msplitlines\u001b[49m\u001b[43m(\u001b[49m\u001b[43m)\u001b[49m\u001b[43m)\u001b[49m\u001b[43m \u001b[49m\u001b[38;5;241;43m+\u001b[39;49m\u001b[43m \u001b[49m\u001b[43mget_vertical_symmetry\u001b[49m\u001b[43m(\u001b[49m\u001b[43mi\u001b[49m\u001b[38;5;241;43m.\u001b[39;49m\u001b[43msplitlines\u001b[49m\u001b[43m(\u001b[49m\u001b[43m)\u001b[49m\u001b[43m)\u001b[49m\u001b[43m,\u001b[49m\n\u001b[1;32m      6\u001b[0m \u001b[43m    \u001b[49m\u001b[43m)\u001b[49m\n\u001b[1;32m      7\u001b[0m     \u001b[38;5;28;01mfor\u001b[39;00m i \u001b[38;5;129;01min\u001b[39;00m inputs\n\u001b[1;32m      8\u001b[0m )\n\u001b[1;32m     10\u001b[0m \u001b[38;5;28mprint\u001b[39m(value)\n\u001b[1;32m     12\u001b[0m \u001b[38;5;28;01massert\u001b[39;00m value \u001b[38;5;241m>\u001b[39m \u001b[38;5;241m15104\u001b[39m\n",
      "Cell \u001b[0;32mIn[358], line 53\u001b[0m, in \u001b[0;36mget_permutations_value\u001b[0;34m(map_string, target)\u001b[0m\n\u001b[1;32m     49\u001b[0m         \u001b[38;5;28;01mreturn\u001b[39;00m val_2\n\u001b[1;32m     51\u001b[0m \u001b[38;5;28mprint\u001b[39m(map_string)\n\u001b[0;32m---> 53\u001b[0m \u001b[38;5;28;01mraise\u001b[39;00m \u001b[38;5;167;01mException\u001b[39;00m(\u001b[38;5;124m\"\u001b[39m\u001b[38;5;124mNo valid permutation found\u001b[39m\u001b[38;5;124m\"\u001b[39m)\n",
      "\u001b[0;31mException\u001b[0m: No valid permutation found"
     ]
    }
   ],
   "source": [
    "inputs = open(\"13.txt\").read().split(\"\\n\\n\")\n",
    "value = sum(\n",
    "    get_permutations_value(\n",
    "        i,\n",
    "        get_horizontal_symmetries(i.splitlines()) + get_vertical_symmetries(i.splitlines()),\n",
    "    )\n",
    "    for i in inputs\n",
    ")\n",
    "\n",
    "print(value)\n",
    "\n",
    "assert value > 15104"
   ]
  }
 ],
 "metadata": {
  "kernelspec": {
   "display_name": "Python 3",
   "language": "python",
   "name": "python3"
  },
  "language_info": {
   "codemirror_mode": {
    "name": "ipython",
    "version": 3
   },
   "file_extension": ".py",
   "mimetype": "text/x-python",
   "name": "python",
   "nbconvert_exporter": "python",
   "pygments_lexer": "ipython3",
   "version": "3.11.6"
  }
 },
 "nbformat": 4,
 "nbformat_minor": 2
}
