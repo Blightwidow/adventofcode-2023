{
 "cells": [
  {
   "cell_type": "code",
   "execution_count": 405,
   "metadata": {},
   "outputs": [],
   "source": [
    "def get_horizontal_symmetries(map: list[str]) -> list[int]:\n",
    "    output = []\n",
    "    for i in range(len(map) - 1):\n",
    "        valid = True\n",
    "        x = i\n",
    "        y = x + 1\n",
    "        while y < len(map) and x >= 0:\n",
    "            if map[x] != map[y]:\n",
    "                valid = False\n",
    "                break\n",
    "            x -= 1\n",
    "            y += 1\n",
    "\n",
    "        if valid:\n",
    "            output.append(100 * (i + 1))\n",
    "\n",
    "    return output\n",
    "\n",
    "\n",
    "def get_vertical_symmetries(map: list[str]) -> list[int]:\n",
    "    new_map = []\n",
    "    matrix = [list(r) for r in map]\n",
    "\n",
    "    for x in range(len(map[0])):\n",
    "        new_map.append([])\n",
    "\n",
    "    for x in range(len(map[0])):\n",
    "        for y in range(len(map)):\n",
    "            new_map[x] = new_map[x] + [matrix[y][x]]\n",
    "\n",
    "    return [\n",
    "        value / 100\n",
    "        for value in get_horizontal_symmetries([\"\".join(line) for line in new_map])\n",
    "    ]\n",
    "\n",
    "\n",
    "def get_permutations_value(map_string: str, targets: [int]) -> int:\n",
    "    for i in range(len((map_string))):\n",
    "        if map_string[i] == \"\\n\":\n",
    "            continue\n",
    "\n",
    "        next_map = (\n",
    "            map_string[:i]\n",
    "            + (\"#\" if map_string[i] == \".\" else \".\")\n",
    "            + map_string[i + 1 :]\n",
    "        )\n",
    "\n",
    "        horizontales = get_horizontal_symmetries(next_map.splitlines())\n",
    "        verticales = get_vertical_symmetries(next_map.splitlines())\n",
    "        for value in horizontales + verticales:\n",
    "            if value not in targets:\n",
    "                return value\n",
    "\n",
    "    print(map_string)\n",
    "\n",
    "    raise Exception(\"No valid permutation found\")"
   ]
  },
  {
   "cell_type": "code",
   "execution_count": 406,
   "metadata": {},
   "outputs": [],
   "source": [
    "test_input = \"\"\"#...##..#\n",
    "#....#..#\n",
    "..##..###\n",
    "#####.##.\n",
    "#####.##.\n",
    "..##..###\n",
    "#....#..#\"\"\"\n",
    "\n",
    "assert get_horizontal_symmetries(test_input.splitlines()) == [400]"
   ]
  },
  {
   "cell_type": "code",
   "execution_count": 407,
   "metadata": {},
   "outputs": [],
   "source": [
    "test_input = \"\"\"#.##..##.\n",
    "..#.##.#.\n",
    "##......#\n",
    "##......#\n",
    "..#.##.#.\n",
    "..##..##.\n",
    "#.#.##.#.\"\"\"\n",
    "\n",
    "assert get_vertical_symmetries(test_input.splitlines()) == [5]"
   ]
  },
  {
   "cell_type": "code",
   "execution_count": 408,
   "metadata": {},
   "outputs": [
    {
     "name": "stdout",
     "output_type": "stream",
     "text": [
      "27505.0\n"
     ]
    }
   ],
   "source": [
    "inputs = open(\"13.txt\").read().split(\"\\n\\n\")\n",
    "value = sum(\n",
    "    (\n",
    "        get_horizontal_symmetries(i.splitlines())\n",
    "        + get_vertical_symmetries(i.splitlines())\n",
    "    )[0]\n",
    "    for i in inputs\n",
    ")\n",
    "\n",
    "print(value)\n",
    "\n",
    "assert value == 27505"
   ]
  },
  {
   "cell_type": "code",
   "execution_count": 409,
   "metadata": {},
   "outputs": [],
   "source": [
    "test_input = \"\"\"#...##..#\n",
    "#....#..#\n",
    "..##..###\n",
    "#####.##.\n",
    "#####.##.\n",
    "..##..###\n",
    "#....#..#\"\"\"\n",
    "\n",
    "\n",
    "original = get_horizontal_symmetries(test_input.splitlines())\n",
    "\n",
    "assert get_permutations_value(test_input, original) == 100"
   ]
  },
  {
   "cell_type": "code",
   "execution_count": 410,
   "metadata": {},
   "outputs": [],
   "source": [
    "test_input = \"\"\"#.##..##.\n",
    "..#.##.#.\n",
    "##......#\n",
    "##......#\n",
    "..#.##.#.\n",
    "..##..##.\n",
    "#.#.##.#.\"\"\"\n",
    "\n",
    "original = get_vertical_symmetries(test_input.splitlines())\n",
    "\n",
    "assert get_permutations_value(test_input, original) == 300"
   ]
  },
  {
   "cell_type": "code",
   "execution_count": 411,
   "metadata": {},
   "outputs": [
    {
     "name": "stdout",
     "output_type": "stream",
     "text": [
      "22906.0\n"
     ]
    }
   ],
   "source": [
    "inputs = open(\"13.txt\").read().split(\"\\n\\n\")\n",
    "value = sum(\n",
    "    get_permutations_value(\n",
    "        i,\n",
    "        get_horizontal_symmetries(i.splitlines()) + get_vertical_symmetries(i.splitlines()),\n",
    "    )\n",
    "    for i in inputs\n",
    ")\n",
    "\n",
    "print(value)\n",
    "\n",
    "assert value > 15104"
   ]
  }
 ],
 "metadata": {
  "kernelspec": {
   "display_name": "Python 3",
   "language": "python",
   "name": "python3"
  },
  "language_info": {
   "codemirror_mode": {
    "name": "ipython",
    "version": 3
   },
   "file_extension": ".py",
   "mimetype": "text/x-python",
   "name": "python",
   "nbconvert_exporter": "python",
   "pygments_lexer": "ipython3",
   "version": "3.11.6"
  }
 },
 "nbformat": 4,
 "nbformat_minor": 2
}
