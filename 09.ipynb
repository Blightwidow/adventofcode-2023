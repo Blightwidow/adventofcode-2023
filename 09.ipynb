{
 "cells": [
  {
   "cell_type": "code",
   "execution_count": 103,
   "metadata": {},
   "outputs": [],
   "source": [
    "def parse(text):\n",
    "    lines = text.split(\"\\n\")\n",
    "\n",
    "    return [list(map(lambda x: int(x), line.split(\" \"))) for line in lines]"
   ]
  },
  {
   "cell_type": "code",
   "execution_count": 104,
   "metadata": {},
   "outputs": [],
   "source": [
    "input_string = open(\"09.txt\").read()\n",
    "histories = parse(input_string)"
   ]
  },
  {
   "cell_type": "code",
   "execution_count": 105,
   "metadata": {},
   "outputs": [],
   "source": [
    "def get_next_element(history: list[int]) -> int:\n",
    "    differences = [history[i + 1] - history[i] for i in range(len(history) - 1)]\n",
    "\n",
    "    if differences.count(differences[0]) == len(differences):\n",
    "        return history[-1] + differences[0]\n",
    "    \n",
    "    return get_next_element(differences) + history[-1]\n",
    "\n",
    "def get_previous_element(history: list[int]) -> int:\n",
    "    differences = [history[i + 1] - history[i] for i in range(len(history) - 1)]\n",
    "\n",
    "    \n",
    "    if differences.count(differences[0]) == len(differences):\n",
    "        return history[0] - differences[0]\n",
    "\n",
    "    return history[0] - get_previous_element(differences)"
   ]
  },
  {
   "cell_type": "code",
   "execution_count": 106,
   "metadata": {},
   "outputs": [
    {
     "name": "stdout",
     "output_type": "stream",
     "text": [
      "[18, 28, 68]\n"
     ]
    }
   ],
   "source": [
    "test_input = \"\"\"0 3 6 9 12 15\n",
    "1 3 6 10 15 21\n",
    "10 13 16 21 30 45\"\"\"\n",
    "\n",
    "test_histories = parse(test_input)\n",
    "\n",
    "print([get_next_element(history) for history in test_histories])\n",
    "\n",
    "assert sum([get_next_element(history) for history in test_histories]) == 114"
   ]
  },
  {
   "cell_type": "code",
   "execution_count": 107,
   "metadata": {},
   "outputs": [
    {
     "name": "stdout",
     "output_type": "stream",
     "text": [
      "1666172641\n"
     ]
    }
   ],
   "source": [
    "print(sum([get_next_element(history) for history in histories]) )"
   ]
  },
  {
   "cell_type": "code",
   "execution_count": 108,
   "metadata": {},
   "outputs": [],
   "source": [
    "test_input = \"\"\"0 3 6 9 12 15\n",
    "1 3 6 10 15 21\n",
    "10 13 16 21 30 45\"\"\"\n",
    "\n",
    "test_histories = parse(test_input)\n",
    "\n",
    "assert sum([get_previous_element(history) for history in test_histories]) == 2"
   ]
  },
  {
   "cell_type": "code",
   "execution_count": 109,
   "metadata": {},
   "outputs": [
    {
     "name": "stdout",
     "output_type": "stream",
     "text": [
      "933\n"
     ]
    }
   ],
   "source": [
    "print(sum([get_previous_element(history) for history in histories]))"
   ]
  }
 ],
 "metadata": {
  "kernelspec": {
   "display_name": "Python 3",
   "language": "python",
   "name": "python3"
  },
  "language_info": {
   "codemirror_mode": {
    "name": "ipython",
    "version": 3
   },
   "file_extension": ".py",
   "mimetype": "text/x-python",
   "name": "python",
   "nbconvert_exporter": "python",
   "pygments_lexer": "ipython3",
   "version": "3.11.4"
  }
 },
 "nbformat": 4,
 "nbformat_minor": 2
}
