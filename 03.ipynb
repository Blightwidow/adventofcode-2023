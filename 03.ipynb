{
 "cells": [
  {
   "cell_type": "code",
   "execution_count": 2,
   "metadata": {},
   "outputs": [],
   "source": [
    "lines = open(\"03.txt\").read().splitlines()"
   ]
  },
  {
   "cell_type": "code",
   "execution_count": 3,
   "metadata": {},
   "outputs": [],
   "source": [
    "import re\n",
    "\n",
    "SYMBOL_REGEX = re.compile(r\"[^\\d\\.]\")\n",
    "\n",
    "\n",
    "def is_adjacent_to_symbol(\n",
    "    map: list[str], line_index: int, start_index: int, end_index\n",
    ") -> bool:\n",
    "    for i in range(max(0, line_index - 1), min(line_index + 2, len(map))):\n",
    "        for j in range(max(0, start_index - 1), min(len(map[i]), end_index + 2)):\n",
    "            if SYMBOL_REGEX.match(map[i][j]):\n",
    "                return True\n",
    "\n",
    "    return False"
   ]
  },
  {
   "cell_type": "code",
   "execution_count": 4,
   "metadata": {},
   "outputs": [],
   "source": [
    "test_lines = [\n",
    "    \"467..114..\",\n",
    "    \"...*......\",\n",
    "    \"..35..633.\",\n",
    "    \"......#...\",\n",
    "    \"617*......\",\n",
    "    \".....+.58.\",\n",
    "    \"..592.....\",\n",
    "    \"......755.\",\n",
    "    \"...$.*....\",\n",
    "    \".664.598..\",\n",
    "]\n",
    "total = 0\n",
    "\n",
    "for line_index, line in enumerate(test_lines):\n",
    "    numbers = re.finditer(r\"\\d+\", line)\n",
    "\n",
    "    for number in numbers:\n",
    "        if is_adjacent_to_symbol(\n",
    "            map=test_lines,\n",
    "            line_index=line_index,\n",
    "            start_index=number.start(),\n",
    "            end_index=number.end() - 1,\n",
    "        ):\n",
    "            total += int(number.group())\n",
    "\n",
    "assert total == 4361"
   ]
  },
  {
   "cell_type": "code",
   "execution_count": 5,
   "metadata": {},
   "outputs": [
    {
     "name": "stdout",
     "output_type": "stream",
     "text": [
      "544433\n"
     ]
    }
   ],
   "source": [
    "total = 0\n",
    "\n",
    "for line_index, line in enumerate(lines):\n",
    "    numbers = re.finditer(r\"\\d+\", line)\n",
    "\n",
    "    for number in numbers:\n",
    "        if is_adjacent_to_symbol(\n",
    "            map=lines,\n",
    "            line_index=line_index,\n",
    "            start_index=number.start(),\n",
    "            end_index=number.end() - 1,\n",
    "        ):\n",
    "            total += int(number.group())\n",
    "\n",
    "print(total)"
   ]
  },
  {
   "cell_type": "code",
   "execution_count": 6,
   "metadata": {},
   "outputs": [],
   "source": [
    "import re\n",
    "\n",
    "def get_adjacent_numbers(\n",
    "    map: list[str], line_index: int, gear_index: int\n",
    ") -> bool:\n",
    "    outputs = []\n",
    "    \n",
    "    for i in range(max(0, line_index - 1), min(line_index + 2, len(map))):\n",
    "        numbers = re.finditer(r\"\\d+\", map[i])\n",
    "\n",
    "        for number in numbers:\n",
    "            if number.start() - 1 <= gear_index <= number.end():\n",
    "                outputs.append(int(number.group()))\n",
    "\n",
    "    return outputs"
   ]
  },
  {
   "cell_type": "code",
   "execution_count": 7,
   "metadata": {},
   "outputs": [],
   "source": [
    "total = 0\n",
    "\n",
    "for line_index, line in enumerate(test_lines):\n",
    "    gears = re.finditer(r\"\\*\", line)\n",
    "\n",
    "    for gear in gears:\n",
    "        numbers = get_adjacent_numbers(\n",
    "            map=test_lines,\n",
    "            line_index=line_index,\n",
    "            gear_index=gear.start(),\n",
    "        )\n",
    "\n",
    "        if len(numbers) == 2:\n",
    "            total += numbers[0] * numbers[1]\n",
    "\n",
    "assert total == 467835"
   ]
  },
  {
   "cell_type": "code",
   "execution_count": 8,
   "metadata": {},
   "outputs": [
    {
     "name": "stdout",
     "output_type": "stream",
     "text": [
      "76314915\n"
     ]
    }
   ],
   "source": [
    "total = 0\n",
    "\n",
    "for line_index, line in enumerate(lines):\n",
    "    gears = re.finditer(r\"\\*\", line)\n",
    "\n",
    "    for gear in gears:\n",
    "        numbers = get_adjacent_numbers(\n",
    "            map=lines,\n",
    "            line_index=line_index,\n",
    "            gear_index=gear.start(),\n",
    "        )\n",
    "\n",
    "        if len(numbers) == 2:\n",
    "            total += numbers[0] * numbers[1]\n",
    "\n",
    "print(total)"
   ]
  }
 ],
 "metadata": {
  "kernelspec": {
   "display_name": "Python 3",
   "language": "python",
   "name": "python3"
  },
  "language_info": {
   "codemirror_mode": {
    "name": "ipython",
    "version": 3
   },
   "file_extension": ".py",
   "mimetype": "text/x-python",
   "name": "python",
   "nbconvert_exporter": "python",
   "pygments_lexer": "ipython3",
   "version": "3.11.4"
  }
 },
 "nbformat": 4,
 "nbformat_minor": 2
}
