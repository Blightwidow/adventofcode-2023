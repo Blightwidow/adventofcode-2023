{
 "cells": [
  {
   "cell_type": "code",
   "execution_count": 947,
   "metadata": {},
   "outputs": [],
   "source": [
    "import re\n",
    "\n",
    "NodeConfig = tuple[list[str], int]\n",
    "State = dict[str, dict[str, complex]]\n",
    "\n",
    "\n",
    "def parse(input_string: str) -> dict[str, list[NodeConfig]]:\n",
    "    output = {}\n",
    "\n",
    "    for line in input_string.splitlines():\n",
    "        matches = re.match(r\"(%|&)?(\\w+) -> (.+)\", line)\n",
    "\n",
    "        output[matches.group(2)] = (matches.group(3).split(\", \"), matches.group(1))\n",
    "\n",
    "    return output"
   ]
  },
  {
   "cell_type": "code",
   "execution_count": 948,
   "metadata": {},
   "outputs": [],
   "source": [
    "def get_initial_state(nodes: dict[str, NodeConfig]) -> State:\n",
    "    output = {}\n",
    "\n",
    "    for node_id, node in nodes.items():\n",
    "        _, operator = node\n",
    "        if operator == \"%\":\n",
    "            output[node_id] = {\"self\": 1}\n",
    "        elif operator == \"&\":\n",
    "            output[node_id] = {\n",
    "                id: 1 for id, step in nodes.items() if node_id in step[0]\n",
    "            }\n",
    "\n",
    "    return output\n",
    "\n",
    "\n",
    "def iterate(\n",
    "    nodes: dict[str, NodeConfig],\n",
    "    state: State,\n",
    "    target_node: str = None,\n",
    "    debug: bool = False,\n",
    "):\n",
    "    count = 1 + 0j\n",
    "    todos = [(node, 1, \"broadcaster\") for node in nodes[\"broadcaster\"][0]]\n",
    "    target_activation = False\n",
    "\n",
    "    if debug:\n",
    "        for todo in todos:\n",
    "            print(f\"broadcaster -low-> {todo[0]}\")\n",
    "\n",
    "    while todos:\n",
    "        current_node, pulse, previous_node = todos[0]\n",
    "        todos = todos[1:]\n",
    "        count += pulse\n",
    "\n",
    "        if target_node and current_node == target_node and pulse == 1:\n",
    "            return None, None, True\n",
    "\n",
    "        if current_node not in nodes:\n",
    "            continue\n",
    "\n",
    "        next_nodes, operator = nodes[current_node]\n",
    "        next_pulse = None\n",
    "\n",
    "        if operator == \"%\":\n",
    "            if pulse == 1j:\n",
    "                continue\n",
    "            next_pulse = state[current_node][\"self\"] = (\n",
    "                1 if state[current_node][\"self\"] == 1j else 1j\n",
    "            )\n",
    "\n",
    "        elif operator == \"&\":\n",
    "            state[current_node][previous_node] = pulse\n",
    "            next_pulse = (\n",
    "                1 if all(value == 1j for value in state[current_node].values()) else 1j\n",
    "            )\n",
    "\n",
    "        for node_id in next_nodes:\n",
    "            todos.append((node_id, next_pulse, current_node))\n",
    "            if debug:\n",
    "                print(\n",
    "                    f\"{current_node} -{'low' if next_pulse == 1 else 'high'}-> {node_id}\"\n",
    "                )\n",
    "\n",
    "    return count, state, target_activation\n",
    "\n",
    "\n",
    "def sum_complexes(complexes: list[complex]) -> tuple[int, int]:\n",
    "    return (sum(x.real for x in complexes), sum(x.imag for x in complexes))\n",
    "\n",
    "\n",
    "def get_pulse_count(nodes: dict[str, NodeConfig], iterations: int) -> int:\n",
    "    state = get_initial_state(nodes)\n",
    "    counts = []\n",
    "\n",
    "    while not counts or (\n",
    "        state != get_initial_state(nodes) and len(counts) < iterations\n",
    "    ):\n",
    "        count, state, _ = iterate(nodes=nodes, state=state)\n",
    "        counts.append(count)\n",
    "\n",
    "    imag, real = sum_complexes(counts)\n",
    "    imag2, real2 = sum_complexes(counts[: iterations % len(counts)])\n",
    "    return imag * real * (iterations // len(counts)) ** 2 + imag2 * real2\n",
    "\n",
    "\n",
    "# TODO: In order to have the number of cycle for rx only low\n",
    "# we need to find the number of for each conjecture and find the LCM\n",
    "# of all of them. First we identify the cycle for each conjecture via the target node parameter (to be modified)\n",
    "# We need the value at which they emit one low pulse. Then we find the LCM of all of them"
   ]
  },
  {
   "cell_type": "code",
   "execution_count": 949,
   "metadata": {},
   "outputs": [],
   "source": [
    "test_input = \"\"\"\\\n",
    "broadcaster -> a, b, c\n",
    "%a -> b\n",
    "%b -> c\n",
    "%c -> inv\n",
    "&inv -> a\"\"\"\n",
    "\n",
    "nodes = parse(test_input)\n",
    "pulses, _, _ = iterate(nodes=nodes, state=get_initial_state(nodes))\n",
    "\n",
    "assert pulses.real * pulses.imag * 1000**2 == 32000000"
   ]
  },
  {
   "cell_type": "code",
   "execution_count": 950,
   "metadata": {},
   "outputs": [],
   "source": [
    "test_input = \"\"\"\\\n",
    "broadcaster -> a\n",
    "%a -> inv, con\n",
    "&inv -> b\n",
    "%b -> con\n",
    "&con -> output\"\"\"\n",
    "nodes = parse(test_input)\n",
    "assert get_pulse_count(nodes, 1000) == 11687500"
   ]
  },
  {
   "cell_type": "code",
   "execution_count": 951,
   "metadata": {},
   "outputs": [
    {
     "name": "stdout",
     "output_type": "stream",
     "text": [
      "Part 1: 812721756.0\n"
     ]
    }
   ],
   "source": [
    "nodes = parse(open(\"20.txt\").read())\n",
    "value = get_pulse_count(nodes, 1000)\n",
    "\n",
    "print(f\"Part 1: {value}\")\n",
    "\n",
    "assert value == 812721756.0"
   ]
  },
  {
   "cell_type": "code",
   "execution_count": 952,
   "metadata": {},
   "outputs": [
    {
     "name": "stdout",
     "output_type": "stream",
     "text": [
      "Part 2: 233338595643977\n"
     ]
    }
   ],
   "source": [
    "import math\n",
    "\n",
    "\n",
    "iterations = 0\n",
    "activation = 0\n",
    "targets = []\n",
    "\n",
    "ANTE_LAST_NODE = \"lv\"\n",
    "\n",
    "for node_id, node in nodes.items():\n",
    "    if ANTE_LAST_NODE in node[0]:\n",
    "        targets.append(node_id)\n",
    "\n",
    "iterations = []\n",
    "for target in targets:\n",
    "    counter = 0\n",
    "    activation = False\n",
    "    state = get_initial_state(nodes)\n",
    "    while not activation:\n",
    "        _, state, activation = iterate(nodes=nodes, state=state, target_node=target)\n",
    "        counter += 1\n",
    "    iterations.append(counter)\n",
    "\n",
    "value = math.lcm(*iterations)\n",
    "print(f\"Part 2: {value}\")\n",
    "assert value == 233338595643977"
   ]
  }
 ],
 "metadata": {
  "kernelspec": {
   "display_name": "Python 3",
   "language": "python",
   "name": "python3"
  },
  "language_info": {
   "codemirror_mode": {
    "name": "ipython",
    "version": 3
   },
   "file_extension": ".py",
   "mimetype": "text/x-python",
   "name": "python",
   "nbconvert_exporter": "python",
   "pygments_lexer": "ipython3",
   "version": "3.11.4"
  }
 },
 "nbformat": 4,
 "nbformat_minor": 2
}
