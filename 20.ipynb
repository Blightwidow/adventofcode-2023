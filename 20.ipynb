{
 "cells": [
  {
   "cell_type": "code",
   "execution_count": 728,
   "metadata": {},
   "outputs": [],
   "source": [
    "import re\n",
    "\n",
    "NodeConfig = tuple[list[str], int]\n",
    "State = dict[str, dict[str, complex]]\n",
    "\n",
    "\n",
    "def parse(input_string: str) -> dict[str, list[NodeConfig]]:\n",
    "    output = {}\n",
    "\n",
    "    for line in input_string.splitlines():\n",
    "        matches = re.match(r\"(%|&)?(\\w+) -> (.+)\", line)\n",
    "\n",
    "        output[matches.group(2)] = (matches.group(3).split(\", \"), matches.group(1))\n",
    "\n",
    "    return output"
   ]
  },
  {
   "cell_type": "code",
   "execution_count": 729,
   "metadata": {},
   "outputs": [],
   "source": [
    "def get_initial_state(nodes: dict[str, NodeConfig]) -> State:\n",
    "    output = {}\n",
    "\n",
    "    for node_id, node in nodes.items():\n",
    "        _, operator = node\n",
    "        if operator == \"%\":\n",
    "            output[node_id] = {\"self\": 1}\n",
    "        elif operator == \"&\":\n",
    "            output[node_id] = {\n",
    "                id: 1 for id, step in nodes.items() if node_id in step[0]\n",
    "            }\n",
    "\n",
    "    return output\n",
    "\n",
    "\n",
    "def iterate(\n",
    "    nodes: dict[str, NodeConfig],\n",
    "    state: State,\n",
    "    target_node: str = None,\n",
    "    debug: bool = False,\n",
    "):\n",
    "    count = 1 + 0j\n",
    "    todos = [(node, 1, \"broadcaster\") for node in nodes[\"broadcaster\"][0]]\n",
    "    target_activations = 0\n",
    "\n",
    "    if debug:\n",
    "        for todo in todos:\n",
    "            print(f\"broadcaster -low-> {todo[0]}\")\n",
    "\n",
    "    while todos:\n",
    "        current_node, pulse, previous_node = todos[0]\n",
    "        todos = todos[1:]\n",
    "        count += pulse\n",
    "\n",
    "        if target_node and current_node == target_node:\n",
    "            target_activations += pulse\n",
    "\n",
    "        if current_node not in nodes:\n",
    "            continue\n",
    "\n",
    "        next_nodes, operator = nodes[current_node]\n",
    "        next_pulse = None\n",
    "\n",
    "        if operator == \"%\":\n",
    "            if pulse == 1j:\n",
    "                continue\n",
    "            state[current_node][\"self\"] = 1 if state[current_node][\"self\"] == 1j else 1j\n",
    "            next_pulse = state[current_node][\"self\"]\n",
    "        elif operator == \"&\":\n",
    "            state[current_node][previous_node] = pulse\n",
    "            next_pulse = (\n",
    "                1 if all(value == 1j for value in state[current_node].values()) else 1j\n",
    "            )\n",
    "\n",
    "        for node_id in next_nodes:\n",
    "            todos.append((node_id, next_pulse, current_node))\n",
    "            if debug:\n",
    "                print(\n",
    "                    f\"{current_node} -{'low' if next_pulse == 1 else 'high'}-> {node_id}\"\n",
    "                )\n",
    "\n",
    "    return count, state, target_activations\n",
    "\n",
    "\n",
    "def sum_complexes(complexes: list[complex]) -> tuple[int, int]:\n",
    "    return (sum(x.real for x in complexes), sum(x.imag for x in complexes))\n",
    "\n",
    "\n",
    "def get_pulse_count(nodes: dict[str, NodeConfig], iterations: int) -> int:\n",
    "    state = get_initial_state(nodes)\n",
    "    counts = []\n",
    "\n",
    "    while not counts or (\n",
    "        state != get_initial_state(nodes) and len(counts) < iterations\n",
    "    ):\n",
    "        count, state, _ = iterate(nodes=nodes, state=state)\n",
    "        counts.append(count)\n",
    "\n",
    "    imag, real = sum_complexes(counts)\n",
    "    imag2, real2 = sum_complexes(counts[: iterations % len(counts)])\n",
    "    return imag * real * (iterations // len(counts)) ** 2 + imag2 * real2"
   ]
  },
  {
   "cell_type": "code",
   "execution_count": 730,
   "metadata": {},
   "outputs": [],
   "source": [
    "test_input = \"\"\"\\\n",
    "broadcaster -> a, b, c\n",
    "%a -> b\n",
    "%b -> c\n",
    "%c -> inv\n",
    "&inv -> a\"\"\"\n",
    "\n",
    "nodes = parse(test_input)\n",
    "pulses, _, _ = iterate(nodes=nodes, state=get_initial_state(nodes))\n",
    "\n",
    "assert pulses.real * pulses.imag * 1000**2 == 32000000"
   ]
  },
  {
   "cell_type": "code",
   "execution_count": 731,
   "metadata": {},
   "outputs": [],
   "source": [
    "test_input = \"\"\"\\\n",
    "broadcaster -> a\n",
    "%a -> inv, con\n",
    "&inv -> b\n",
    "%b -> con\n",
    "&con -> output\"\"\"\n",
    "nodes = parse(test_input)\n",
    "assert get_pulse_count(nodes, 1000) == 11687500"
   ]
  },
  {
   "cell_type": "code",
   "execution_count": 732,
   "metadata": {},
   "outputs": [
    {
     "name": "stdout",
     "output_type": "stream",
     "text": [
      "Part 1: 812721756.0\n"
     ]
    }
   ],
   "source": [
    "nodes = parse(open(\"20.txt\").read())\n",
    "value = get_pulse_count(nodes, 1000)\n",
    "\n",
    "print(f\"Part 1: {value}\")\n",
    "\n",
    "assert value == 812721756.0"
   ]
  },
  {
   "cell_type": "code",
   "execution_count": 735,
   "metadata": {},
   "outputs": [
    {
     "ename": "KeyboardInterrupt",
     "evalue": "",
     "output_type": "error",
     "traceback": [
      "\u001b[0;31m---------------------------------------------------------------------------\u001b[0m",
      "\u001b[0;31mKeyboardInterrupt\u001b[0m                         Traceback (most recent call last)",
      "Cell \u001b[0;32mIn[735], line 5\u001b[0m\n\u001b[1;32m      3\u001b[0m state \u001b[38;5;241m=\u001b[39m get_initial_state(nodes)\n\u001b[1;32m      4\u001b[0m \u001b[38;5;28;01mwhile\u001b[39;00m activations \u001b[38;5;241m!=\u001b[39m \u001b[38;5;241m1\u001b[39m:\n\u001b[0;32m----> 5\u001b[0m     _, state, activations \u001b[38;5;241m=\u001b[39m \u001b[43miterate\u001b[49m\u001b[43m(\u001b[49m\u001b[43mnodes\u001b[49m\u001b[38;5;241;43m=\u001b[39;49m\u001b[43mnodes\u001b[49m\u001b[43m,\u001b[49m\u001b[43m \u001b[49m\u001b[43mstate\u001b[49m\u001b[38;5;241;43m=\u001b[39;49m\u001b[43mstate\u001b[49m\u001b[43m,\u001b[49m\u001b[43m \u001b[49m\u001b[43mtarget_node\u001b[49m\u001b[38;5;241;43m=\u001b[39;49m\u001b[38;5;124;43m\"\u001b[39;49m\u001b[38;5;124;43mrx\u001b[39;49m\u001b[38;5;124;43m\"\u001b[39;49m\u001b[43m)\u001b[49m\n\u001b[1;32m      6\u001b[0m     iterations \u001b[38;5;241m+\u001b[39m\u001b[38;5;241m=\u001b[39m \u001b[38;5;241m1\u001b[39m\n\u001b[1;32m      8\u001b[0m \u001b[38;5;28mprint\u001b[39m(\u001b[38;5;124mf\u001b[39m\u001b[38;5;124m\"\u001b[39m\u001b[38;5;124mPart 2: \u001b[39m\u001b[38;5;132;01m{\u001b[39;00miterations\u001b[38;5;132;01m}\u001b[39;00m\u001b[38;5;124m\"\u001b[39m)\n",
      "Cell \u001b[0;32mIn[729], line 46\u001b[0m, in \u001b[0;36miterate\u001b[0;34m(nodes, state, target_node, debug)\u001b[0m\n\u001b[1;32m     44\u001b[0m \u001b[38;5;28;01mif\u001b[39;00m operator \u001b[38;5;241m==\u001b[39m \u001b[38;5;124m\"\u001b[39m\u001b[38;5;124m%\u001b[39m\u001b[38;5;124m\"\u001b[39m:\n\u001b[1;32m     45\u001b[0m     \u001b[38;5;28;01mif\u001b[39;00m pulse \u001b[38;5;241m==\u001b[39m \u001b[38;5;241m1\u001b[39mj:\n\u001b[0;32m---> 46\u001b[0m         \u001b[38;5;28;01mcontinue\u001b[39;00m\n\u001b[1;32m     47\u001b[0m     state[current_node][\u001b[38;5;124m\"\u001b[39m\u001b[38;5;124mself\u001b[39m\u001b[38;5;124m\"\u001b[39m] \u001b[38;5;241m=\u001b[39m \u001b[38;5;241m1\u001b[39m \u001b[38;5;28;01mif\u001b[39;00m state[current_node][\u001b[38;5;124m\"\u001b[39m\u001b[38;5;124mself\u001b[39m\u001b[38;5;124m\"\u001b[39m] \u001b[38;5;241m==\u001b[39m \u001b[38;5;241m1\u001b[39mj \u001b[38;5;28;01melse\u001b[39;00m \u001b[38;5;241m1\u001b[39mj\n\u001b[1;32m     48\u001b[0m     next_pulse \u001b[38;5;241m=\u001b[39m state[current_node][\u001b[38;5;124m\"\u001b[39m\u001b[38;5;124mself\u001b[39m\u001b[38;5;124m\"\u001b[39m]\n",
      "\u001b[0;31mKeyboardInterrupt\u001b[0m: "
     ]
    }
   ],
   "source": [
    "iterations = 0\n",
    "activations = 0\n",
    "state = get_initial_state(nodes)\n",
    "while activations != 1:\n",
    "    _, state, activations = iterate(nodes=nodes, state=state, target_node=\"rx\")\n",
    "    iterations += 1\n",
    "\n",
    "print(f\"Part 2: {iterations}\")"
   ]
  }
 ],
 "metadata": {
  "kernelspec": {
   "display_name": "Python 3",
   "language": "python",
   "name": "python3"
  },
  "language_info": {
   "codemirror_mode": {
    "name": "ipython",
    "version": 3
   },
   "file_extension": ".py",
   "mimetype": "text/x-python",
   "name": "python",
   "nbconvert_exporter": "python",
   "pygments_lexer": "ipython3",
   "version": "3.11.4"
  }
 },
 "nbformat": 4,
 "nbformat_minor": 2
}
